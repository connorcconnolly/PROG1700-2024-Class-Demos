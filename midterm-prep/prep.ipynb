{
 "cells": [
  {
   "cell_type": "markdown",
   "metadata": {},
   "source": [
    "---\n",
    "### Basics\n"
   ]
  },
  {
   "cell_type": "code",
   "execution_count": null,
   "metadata": {
    "dotnet_interactive": {
     "language": "pwsh"
    },
    "polyglot_notebook": {
     "kernelName": "pwsh"
    },
    "vscode": {
     "languageId": "polyglot-notebook"
    }
   },
   "outputs": [],
   "source": [
    "#here's a useful trick\n",
    "Write-Host \"*****Get everything******\"\n",
    "$files=Get-ChildItem ..\\.. -Name\n",
    "$files\n",
    "\n",
    "Write-Host \"****only files******\"\n",
    "$files=Get-ChildItem ..\\.. -File -Name\n",
    "$files\n",
    "\n",
    "Write-Host \"******Get only folders******\"\n",
    "#GCI = get-childItem\n",
    "$folders=GCI ..\\.. -Directory -Name\n",
    "$folders"
   ]
  },
  {
   "cell_type": "code",
   "execution_count": null,
   "metadata": {
    "dotnet_interactive": {
     "language": "pwsh"
    },
    "polyglot_notebook": {
     "kernelName": "pwsh"
    },
    "vscode": {
     "languageId": "polyglot-notebook"
    }
   },
   "outputs": [],
   "source": [
    "#a script that outputs important info about your computer:\n",
    "Write-Host \"Host: \" $env:COMPUTERNAME\n",
    "Write-Host \"User: \" $env:USERNAME\n",
    "Write-Host \"Home: \" $HOME\n",
    "Write-Host \"Path: \" $env:PATH"
   ]
  },
  {
   "cell_type": "code",
   "execution_count": null,
   "metadata": {
    "dotnet_interactive": {
     "language": "pwsh"
    },
    "polyglot_notebook": {
     "kernelName": "pwsh"
    },
    "vscode": {
     "languageId": "polyglot-notebook"
    }
   },
   "outputs": [],
   "source": [
    "#Math"
   ]
  },
  {
   "cell_type": "markdown",
   "metadata": {},
   "source": [
    "---\n",
    "### Hash Tables\n",
    "\n",
    "Hash Tables vs Dictionaries"
   ]
  },
  {
   "cell_type": "code",
   "execution_count": 4,
   "metadata": {
    "dotnet_interactive": {
     "language": "pwsh"
    },
    "polyglot_notebook": {
     "kernelName": "pwsh"
    },
    "vscode": {
     "languageId": "polyglot-notebook"
    }
   },
   "outputs": [
    {
     "name": "stdout",
     "output_type": "stream",
     "text": [
      "Hash Table Keys:\n",
      "0004\n",
      "0001\n",
      "0003\n",
      "0002\n",
      "Dictionary Keys:\n",
      "0001\n",
      "0002\n",
      "0003\n",
      "0005\n",
      "0004\n"
     ]
    }
   ],
   "source": [
    "#defining a hash table that holds arrays of strings\n",
    "$my_hash_table=@{\n",
    "    \"0001\"= @(\"Dracula\",\"Bram Stoker\",\"Horror\");\n",
    "    \"0002\"= @(\"Frankenstein\",\"Mary Shelly\",\"Horror\");\n",
    "    \"0003\"= @(\"The Adventures of Sherlock Holmes\",\"Arthur Conan Doyle\",\"Mystery\");\n",
    "    \"0004\"= @(\"The Hobbit\", \"JRR Tolkien\", \"Fantasy\");\n",
    "    }\n",
    "Write-Host(\"Hash Table Keys:\")\n",
    "$my_hash_table.Keys #returns an array of all Keys in the hash table\n",
    "\n",
    "#notice how they keys are output in a random order\n",
    "#hit restart in the top bar and run this again, you'll have a different random order. Try this a few times.\n",
    "\n",
    "$my_dictionary=[ordered]@{\n",
    "    \"0001\"= @(\"Dracula\",\"Bram Stoker\",\"Horror\");\n",
    "    \"0002\"= @(\"Frankenstein\",\"Mary Shelly\",\"Horror\");\n",
    "    \"0003\"= @(\"The Adventures of Sherlock Holmes\",\"Arthur Conan Doyle\",\"Mystery\");\n",
    "    \"0005\"= @(\"The Fellowship of the Ring\", \"JRR Tolkien\", \"Fantasy\");\n",
    "    \"0004\"= @(\"The Hobbit\", \"JRR Tolkien\", \"Fantasy\");\n",
    "    }\n",
    "\n",
    "Write-Host(\"Dictionary Keys:\")\n",
    "$my_dictionary.Keys \n",
    "#dictionaries keep their elements in a consistent order.\n",
    "#the order is whatever order you the programmer put them in. \n",
    "#Notice how 0005 is before 0004 because that is how they were ordered when the distionary was defined.\n"
   ]
  },
  {
   "cell_type": "code",
   "execution_count": null,
   "metadata": {
    "dotnet_interactive": {
     "language": "pwsh"
    },
    "polyglot_notebook": {
     "kernelName": "pwsh"
    },
    "vscode": {
     "languageId": "polyglot-notebook"
    }
   },
   "outputs": [],
   "source": [
    "#"
   ]
  },
  {
   "cell_type": "markdown",
   "metadata": {},
   "source": [
    "---\n",
    "### Conditionals\n",
    "if/elseif/else\n"
   ]
  },
  {
   "cell_type": "code",
   "execution_count": 5,
   "metadata": {
    "dotnet_interactive": {
     "language": "pwsh"
    },
    "polyglot_notebook": {
     "kernelName": "pwsh"
    },
    "vscode": {
     "languageId": "polyglot-notebook"
    }
   },
   "outputs": [
    {
     "name": "stdout",
     "output_type": "stream",
     "text": [
      "the quick brown fox jumped over the lazy dog\r\n"
     ]
    }
   ],
   "source": [
    "#All \n",
    "if($true){\n",
    "    write-host(\"the quick brown fox jumped over the lazy dog\")\n",
    "}"
   ]
  }
 ],
 "metadata": {
  "kernelspec": {
   "display_name": ".NET (C#)",
   "language": "C#",
   "name": ".net-csharp"
  },
  "language_info": {
   "name": "python"
  },
  "polyglot_notebook": {
   "kernelInfo": {
    "defaultKernelName": "csharp",
    "items": [
     {
      "aliases": [],
      "name": "csharp"
     }
    ]
   }
  }
 },
 "nbformat": 4,
 "nbformat_minor": 2
}
