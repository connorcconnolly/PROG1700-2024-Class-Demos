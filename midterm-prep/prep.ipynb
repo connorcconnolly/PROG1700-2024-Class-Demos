{
 "cells": [
  {
   "cell_type": "markdown",
   "metadata": {},
   "source": [
    "---\n",
    "### Basics\n"
   ]
  },
  {
   "cell_type": "code",
   "execution_count": null,
   "metadata": {
    "dotnet_interactive": {
     "language": "pwsh"
    },
    "polyglot_notebook": {
     "kernelName": "pwsh"
    },
    "vscode": {
     "languageId": "polyglot-notebook"
    }
   },
   "outputs": [],
   "source": [
    "#here's a useful trick\n",
    "Write-Host \"*****Get everything******\"\n",
    "$files=Get-ChildItem ..\\.. -Name\n",
    "$files\n",
    "\n",
    "Write-Host \"****only files******\"\n",
    "$files=Get-ChildItem ..\\.. -File -Name\n",
    "$files\n",
    "\n",
    "Write-Host \"******Get only folders******\"\n",
    "#GCI = get-childItem\n",
    "$folders=GCI ..\\.. -Directory -Name\n",
    "$folders"
   ]
  },
  {
   "cell_type": "code",
   "execution_count": null,
   "metadata": {
    "dotnet_interactive": {
     "language": "pwsh"
    },
    "polyglot_notebook": {
     "kernelName": "pwsh"
    },
    "vscode": {
     "languageId": "polyglot-notebook"
    }
   },
   "outputs": [],
   "source": [
    "#a script that outputs important info about your computer:\n",
    "Write-Host \"Host: \" $env:COMPUTERNAME\n",
    "Write-Host \"User: \" $env:USERNAME\n",
    "Write-Host \"Home: \" $HOME\n",
    "Write-Host \"Path: \" $env:PATH"
   ]
  }
 ],
 "metadata": {
  "kernelspec": {
   "display_name": ".NET (C#)",
   "language": "C#",
   "name": ".net-csharp"
  },
  "language_info": {
   "name": "python"
  },
  "polyglot_notebook": {
   "kernelInfo": {
    "defaultKernelName": "csharp",
    "items": [
     {
      "aliases": [],
      "name": "csharp"
     }
    ]
   }
  }
 },
 "nbformat": 4,
 "nbformat_minor": 2
}
