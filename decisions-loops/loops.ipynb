{
 "cells": [
  {
   "cell_type": "code",
   "execution_count": null,
   "metadata": {
    "dotnet_interactive": {
     "language": "pwsh"
    },
    "polyglot_notebook": {
     "kernelName": "pwsh"
    },
    "vscode": {
     "languageId": "polyglot-notebook"
    }
   },
   "outputs": [],
   "source": [
    "#escaping infinite loop in jupiter notebook: \n",
    "#hahaha you can't without restarting VS code. \n",
    "#So make sure you save before you run any program with a while loop"
   ]
  },
  {
   "cell_type": "code",
   "execution_count": 8,
   "metadata": {
    "dotnet_interactive": {
     "language": "pwsh"
    },
    "polyglot_notebook": {
     "kernelName": "pwsh"
    },
    "vscode": {
     "languageId": "polyglot-notebook"
    }
   },
   "outputs": [
    {
     "name": "stdout",
     "output_type": "stream",
     "text": [
      "Invalid Login Attempt\n",
      "Invalid Login Attempt\n",
      "Invalid Login Attempt\n",
      "Invalid Login Attempt\n",
      "Logged in Succesfully\n"
     ]
    }
   ],
   "source": [
    "#while loop\n",
    "\n",
    "$pword=\"Passw0rd\"\n",
    "$user_input=Read-Host(\"Enter your Password\")\n",
    "while($user_input -ne $pword){\n",
    "    Write-Host(\"Invalid Login Attempt\")\n",
    "    $user_input=Read-Host(\"Enter your Password\")\n",
    "}\n",
    "Write-Host \"Logged in Succesfully\""
   ]
  },
  {
   "cell_type": "code",
   "execution_count": null,
   "metadata": {
    "dotnet_interactive": {
     "language": "pwsh"
    },
    "polyglot_notebook": {
     "kernelName": "pwsh"
    },
    "vscode": {
     "languageId": "polyglot-notebook"
    }
   },
   "outputs": [],
   "source": [
    "#while loop with attempt counter\n",
    "$attempts=1\n",
    "$pword=\"Passw0rd\"\n",
    "$user_input=Read-Host(\"Enter your Password\")\n",
    "while(($user_input -ne $pword) -and ($attempts -lt 3)){\n",
    "    Write-Host(\"Invalid Login Attempt\")\n",
    "    $user_input=Read-Host(\"Enter your Password\")\n",
    "    $attempts++\n",
    "}\n",
    "if($attempts -ge 3){\n",
    "    Write-Host \"Login Failed\"\n",
    "}\n",
    "else{\n",
    "    Write-Host \"Logged in Succesfully\"}"
   ]
  },
  {
   "cell_type": "code",
   "execution_count": 7,
   "metadata": {
    "dotnet_interactive": {
     "language": "pwsh"
    },
    "polyglot_notebook": {
     "kernelName": "pwsh"
    },
    "vscode": {
     "languageId": "polyglot-notebook"
    }
   },
   "outputs": [
    {
     "name": "stdout",
     "output_type": "stream",
     "text": [
      "1\n",
      "2\n",
      "3\n",
      "4\n",
      "5\n"
     ]
    }
   ],
   "source": [
    "#using an iterator\n",
    "$num=1\n",
    "while($num -le 5){\n",
    "    Write-Host \"$num\"\n",
    "    # $num = $num + 1\n",
    "    $num++\n",
    "    # $num = $num + 2\n",
    "    # $num+=2\n",
    "    # $num = $num *3\n",
    "    # $num*=3\n",
    "    # $num = $num / 2\n",
    "    # $num/=2\n",
    "}"
   ]
  },
  {
   "cell_type": "code",
   "execution_count": 10,
   "metadata": {
    "dotnet_interactive": {
     "language": "pwsh"
    },
    "polyglot_notebook": {
     "kernelName": "pwsh"
    },
    "vscode": {
     "languageId": "polyglot-notebook"
    }
   },
   "outputs": [
    {
     "name": "stdout",
     "output_type": "stream",
     "text": [
      "How did I get here?\r\n"
     ]
    }
   ],
   "source": [
    "#do-while loop\n",
    "\n",
    "$num=0\n",
    "while($num -eq 1){\n",
    "    Write-Host \"How did I get here?\"\n",
    "}\n",
    "$num=0\n",
    "do{\n",
    "    Write-Host \"How did I get here?\"\n",
    "}while($num -eq 1)\n",
    "    \n"
   ]
  },
  {
   "cell_type": "code",
   "execution_count": 11,
   "metadata": {
    "dotnet_interactive": {
     "language": "pwsh"
    },
    "polyglot_notebook": {
     "kernelName": "pwsh"
    },
    "vscode": {
     "languageId": "polyglot-notebook"
    }
   },
   "outputs": [
    {
     "name": "stdout",
     "output_type": "stream",
     "text": [
      "Logged in Succesfully\r\n"
     ]
    }
   ],
   "source": [
    "#password asker with do-while loop\n",
    "$attempts=0\n",
    "$pword=\"Passw0rd\"\n",
    "#$user_input=Read-Host(\"Enter your Password\")\n",
    "do{\n",
    "    $user_input=Read-Host(\"Enter your Password\")\n",
    "    $attempts++\n",
    "}while(($user_input -ne $pword) -and ($attempts -lt 3))\n",
    "if($attempts -ge 3){\n",
    "    Write-Host \"Login Failed\"\n",
    "}\n",
    "else{\n",
    "    Write-Host \"Logged in Succesfully\"}"
   ]
  },
  {
   "cell_type": "code",
   "execution_count": 15,
   "metadata": {
    "dotnet_interactive": {
     "language": "pwsh"
    },
    "polyglot_notebook": {
     "kernelName": "pwsh"
    },
    "vscode": {
     "languageId": "polyglot-notebook"
    }
   },
   "outputs": [
    {
     "name": "stdout",
     "output_type": "stream",
     "text": [
      "Logged in Succesfully\r\n"
     ]
    }
   ],
   "source": [
    "#password asker with do-until loop\n",
    "$attempts=0\n",
    "$pword=\"Passw0rd\"\n",
    "\n",
    "do{\n",
    "    $user_input=Read-Host(\"Enter your Password\")\n",
    "    $attempts++\n",
    "}until(($user_input -eq $pword) -or ($attempts -ge 3))\n",
    "if($attempts -ge 3){\n",
    "    Write-Host \"Login Failed. Too many incorrect attempts.\"\n",
    "}\n",
    "else{\n",
    "    Write-Host \"Logged in Succesfully\"}"
   ]
  },
  {
   "cell_type": "code",
   "execution_count": 1,
   "metadata": {
    "dotnet_interactive": {
     "language": "pwsh"
    },
    "polyglot_notebook": {
     "kernelName": "pwsh"
    },
    "vscode": {
     "languageId": "polyglot-notebook"
    }
   },
   "outputs": [
    {
     "name": "stdout",
     "output_type": "stream",
     "text": [
      "0\n",
      "1\n",
      "2\n",
      "3\n",
      "4\n",
      "5\n",
      "6\n",
      "7\n",
      "8\n",
      "9\n",
      "10\n"
     ]
    }
   ],
   "source": [
    "#for loop\n",
    "for ($i=0; $i -le 10; $i++){\n",
    "    Write-Host($i)\n",
    "}"
   ]
  },
  {
   "cell_type": "code",
   "execution_count": 6,
   "metadata": {
    "dotnet_interactive": {
     "language": "pwsh"
    },
    "polyglot_notebook": {
     "kernelName": "pwsh"
    },
    "vscode": {
     "languageId": "polyglot-notebook"
    }
   },
   "outputs": [
    {
     "name": "stdout",
     "output_type": "stream",
     "text": [
      "50\n",
      "40\n",
      "30\n",
      "20\n",
      "10\n"
     ]
    }
   ],
   "source": [
    "#for loop\n",
    "for ($i=50; $i -ge 10; $i-=10){\n",
    "    Write-Host($i)\n",
    "}"
   ]
  },
  {
   "cell_type": "code",
   "execution_count": 9,
   "metadata": {
    "dotnet_interactive": {
     "language": "pwsh"
    },
    "polyglot_notebook": {
     "kernelName": "pwsh"
    },
    "vscode": {
     "languageId": "polyglot-notebook"
    }
   },
   "outputs": [
    {
     "name": "stdout",
     "output_type": "stream",
     "text": [
      "1, 2, 3, 4, 5, 6, 7, 8, 9, 10, 11, 12, \n",
      "2, 4, 6, 8, 10, 12, 14, 16, 18, 20, 22, 24, \n",
      "3, 6, 9, 12, 15, 18, 21, 24, 27, 30, 33, 36, \n",
      "4, 8, 12, 16, 20, 24, 28, 32, 36, 40, 44, 48, \n",
      "5, 10, 15, 20, 25, 30, 35, 40, 45, 50, 55, 60, \n",
      "6, 12, 18, 24, 30, 36, 42, 48, 54, 60, 66, 72, \n",
      "7, 14, 21, 28, 35, 42, 49, 56, 63, 70, 77, 84, \n",
      "8, 16, 24, 32, 40, 48, 56, 64, 72, 80, 88, 96, \n",
      "9, 18, 27, 36, 45, 54, 63, 72, 81, 90, 99, 108, \n",
      "10, 20, 30, 40, 50, 60, 70, 80, 90, 100, 110, 120, \n",
      "11, 22, 33, 44, 55, 66, 77, 88, 99, 110, 121, 132, \n",
      "12, 24, 36, 48, 60, 72, 84, 96, 108, 120, 132, 144, \n"
     ]
    }
   ],
   "source": [
    "#nested loop\n",
    "for($i=1; $i -le 12; $i++){\n",
    "    for($j=1; $j -le 12; $j++){\n",
    "        Write-Host(\"{0}, \" -f ($i*$j)) -NoNewline\n",
    "    }\n",
    "    Write-Host(\"\")\n",
    "}"
   ]
  },
  {
   "cell_type": "code",
   "execution_count": 15,
   "metadata": {
    "dotnet_interactive": {
     "language": "pwsh"
    },
    "polyglot_notebook": {
     "kernelName": "pwsh"
    },
    "vscode": {
     "languageId": "polyglot-notebook"
    }
   },
   "outputs": [
    {
     "name": "stdout",
     "output_type": "stream",
     "text": [
      "January Statement: \n",
      " Balance: 0, Interest:0\n",
      "February Statement: \n",
      " Balance: 100, Interest:2\n",
      "March Statement: \n",
      " Balance: 202, Interest:4.04\n",
      "April Statement: \n",
      " Balance: 306.03999999999996, Interest:6.12\n",
      "May Statement: \n",
      " Balance: 412.15999999999997, Interest:8.24\n",
      "June Statement: \n",
      " Balance: 520.4, Interest:10.41\n",
      "July Statement: \n",
      " Balance: 630.81, Interest:12.62\n",
      "August Statement: \n",
      " Balance: 743.43, Interest:14.87\n",
      "September Statement: \n",
      " Balance: 858.3, Interest:17.17\n",
      "October Statement: \n",
      " Balance: 975.4699999999999, Interest:19.51\n",
      "November Statement: \n",
      " Balance: 1094.98, Interest:21.9\n",
      "December Statement: \n",
      " Balance: 1216.88, Interest:24.34\n",
      "Balance: 1341.22\n"
     ]
    }
   ],
   "source": [
    "#test question\n",
    "#Assume you deposit $100 a month in the bank\n",
    "#bank gives 2% interest compounded monthly\n",
    "#how much will you have at end of year?\n",
    "$balance=0\n",
    "$calendar=@(\"January\",\"February\",\"March\",\"April\",\"May\",\"June\",\"July\",\"August\",\"September\",\"October\",\"November\",\"December\")\n",
    "for ($month=0; $month -le 11; $month++){\n",
    "    $balance+=100;\n",
    "    $interest=[MATH]::Round($balance*0.02,2)\n",
    "    Write-Host(\"{0} Statement: `n Balance: {1}, Interest:{2}\"-f $calendar[$month],$balance,$interest)\n",
    "    \n",
    "    $balance+=$interest\n",
    "    $balance+=100;\n",
    "\n",
    "}\n",
    "Write-Host(\"Balance: $balance\")"
   ]
  },
  {
   "cell_type": "code",
   "execution_count": 13,
   "metadata": {
    "dotnet_interactive": {
     "language": "pwsh"
    },
    "polyglot_notebook": {
     "kernelName": "pwsh"
    },
    "vscode": {
     "languageId": "polyglot-notebook"
    }
   },
   "outputs": [
    {
     "name": "stdout",
     "output_type": "stream",
     "text": [
      "\n",
      "o\n",
      "oo\n",
      "ooo\n",
      "oooo\n",
      "ooooo\n",
      "oooooo\n"
     ]
    }
   ],
   "source": [
    "#crappy graphics\n",
    "#o\n",
    "#oo\n",
    "#ooo\n",
    "\n",
    "for($line=1; $line -le 6; $line++){\n",
    "    Write-Host(\"o\"*$line)\n",
    "}"
   ]
  },
  {
   "cell_type": "code",
   "execution_count": 16,
   "metadata": {
    "dotnet_interactive": {
     "language": "pwsh"
    },
    "polyglot_notebook": {
     "kernelName": "pwsh"
    },
    "vscode": {
     "languageId": "polyglot-notebook"
    }
   },
   "outputs": [
    {
     "name": "stdout",
     "output_type": "stream",
     "text": [
      "     o\n",
      "    oo\n",
      "   ooo\n",
      "  oooo\n",
      " ooooo\n",
      "oooooo\n"
     ]
    }
   ],
   "source": [
    "#   o\n",
    "#  oo\n",
    "# ooo\n",
    "#oooo\n",
    "\n",
    "for($line=1; $line -le 6; $line++){\n",
    "    Write-Host(\" \"*(6-$line)) -NoNewline\n",
    "    Write-Host(\"o\"*$line)\n",
    "}"
   ]
  },
  {
   "cell_type": "code",
   "execution_count": null,
   "metadata": {
    "dotnet_interactive": {
     "language": "pwsh"
    },
    "polyglot_notebook": {
     "kernelName": "pwsh"
    },
    "vscode": {
     "languageId": "polyglot-notebook"
    }
   },
   "outputs": [],
   "source": []
  }
 ],
 "metadata": {
  "kernelspec": {
   "display_name": ".NET (C#)",
   "language": "C#",
   "name": ".net-csharp"
  },
  "language_info": {
   "name": "python"
  },
  "polyglot_notebook": {
   "kernelInfo": {
    "defaultKernelName": "csharp",
    "items": [
     {
      "aliases": [],
      "name": "csharp"
     }
    ]
   }
  }
 },
 "nbformat": 4,
 "nbformat_minor": 2
}
