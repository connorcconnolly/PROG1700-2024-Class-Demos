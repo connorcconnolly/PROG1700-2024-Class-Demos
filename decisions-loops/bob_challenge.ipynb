{
 "cells": [
  {
   "cell_type": "code",
   "execution_count": 8,
   "metadata": {
    "dotnet_interactive": {
     "language": "pwsh"
    },
    "polyglot_notebook": {
     "kernelName": "pwsh"
    },
    "vscode": {
     "languageId": "polyglot-notebook"
    }
   },
   "outputs": [
    {
     "name": "stdout",
     "output_type": "stream",
     "text": [
      "\u001b[31;1mOperationStopped: \u001b[0m\n",
      "\u001b[31;1m\u001b[36;1mLine |\u001b[0m\n",
      "\u001b[31;1m\u001b[36;1m\u001b[36;1m  15 | \u001b[0m elseif(\u001b[36;1m$user_in -match \"`?\"\u001b[0m){\u001b[0m\n",
      "\u001b[31;1m\u001b[36;1m\u001b[36;1m\u001b[0m\u001b[36;1m\u001b[0m\u001b[36;1m     | \u001b[31;1m        ~~~~~~~~~~~~~~~~~~~~\u001b[0m\n",
      "\u001b[31;1m\u001b[36;1m\u001b[36;1m\u001b[0m\u001b[36;1m\u001b[0m\u001b[36;1m\u001b[31;1m\u001b[31;1m\u001b[36;1m     | \u001b[31;1mInvalid pattern '?' at offset 1. Quantifier '?' following nothing.\u001b[0m\n"
     ]
    },
    {
     "ename": "Error",
     "evalue": "Command failed: SubmitCode: $user_in=Read-Host(\"What would you like to say to  ...",
     "output_type": "error",
     "traceback": [
      "Command failed: SubmitCode: $user_in=Read-Host(\"What would you like to say to  ..."
     ]
    }
   ],
   "source": [
    "$user_in=Read-Host(\"What would you like to say to Bob?\")\n",
    "#if yelling\n",
    "if($user_in -ceq $user_in.ToUpper()){\n",
    "\n",
    "    #if question\n",
    "    if($user_in -match \"?\"){\n",
    "        Write-Host(\"Calm down, I know what I'm doing!\")\n",
    "    }\n",
    "    else{\n",
    "        Write-Host(\"Whoa, chill out!\")\n",
    "    }\n",
    "\n",
    "}\n",
    "#if question\n",
    "elseif($user_in -match \"?\"){\n",
    "    Write-Host(\"Sure.\")\n",
    "}\n",
    "\n",
    "#if silence\n",
    "elseif([string]::IsNullOrEmpty($user_in) -eq $true){\n",
    "    Write-Host(\"Fine. Be that way!\")\n",
    "}\n",
    "else{\n",
    "    Write-Host \"Whatever.\"\n",
    "}"
   ]
  }
 ],
 "metadata": {
  "kernelspec": {
   "display_name": ".NET (C#)",
   "language": "C#",
   "name": ".net-csharp"
  },
  "language_info": {
   "name": "python"
  },
  "polyglot_notebook": {
   "kernelInfo": {
    "defaultKernelName": "csharp",
    "items": [
     {
      "aliases": [],
      "name": "csharp"
     }
    ]
   }
  }
 },
 "nbformat": 4,
 "nbformat_minor": 2
}
