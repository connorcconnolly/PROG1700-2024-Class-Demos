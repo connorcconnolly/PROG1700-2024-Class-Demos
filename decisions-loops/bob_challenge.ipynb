{
 "cells": [
  {
   "cell_type": "code",
   "execution_count": 8,
   "metadata": {
    "dotnet_interactive": {
     "language": "pwsh"
    },
    "polyglot_notebook": {
     "kernelName": "pwsh"
    },
    "vscode": {
     "languageId": "polyglot-notebook"
    }
   },
   "outputs": [
    {
     "ename": "Error",
     "evalue": "Input request cancelled",
     "output_type": "error",
     "traceback": [
      "Input request cancelled"
     ]
    },
    {
     "name": "stdout",
     "output_type": "stream",
     "text": [
      "\u001b[31;1mRead-Host: \u001b[31;1mInput request cancelled\u001b[0m\n",
      "Whoa, chill out!\n"
     ]
    },
    {
     "ename": "Error",
     "evalue": "Command failed: SubmitCode: $user_in=Read-Host(\"What would you like to say to  ...",
     "output_type": "error",
     "traceback": [
      "Command failed: SubmitCode: $user_in=Read-Host(\"What would you like to say to  ..."
     ]
    }
   ],
   "source": [
    "$user_in=Read-Host(\"What would you like to say to Bob?\")\n",
    "#if yelling\n",
    "if($user_in -ceq $user_in.ToUpper()){\n",
    "\n",
    "    #if question\n",
    "    if(\"?\" -in $user_in.ToCharArray()){\n",
    "        Write-Host(\"Calm down, I know what I'm doing!\")\n",
    "    }\n",
    "    else{\n",
    "        Write-Host(\"Whoa, chill out!\")\n",
    "    }\n",
    "\n",
    "}\n",
    "#if question\n",
    "elseif(\"?\" -in $user_in.ToCharArray()){\n",
    "    Write-Host(\"Sure.\")\n",
    "}\n",
    "\n",
    "#if silence\n",
    "elseif([string]::IsNullOrEmpty($user_in) -eq $true){\n",
    "    Write-Host(\"Fine. Be that way!\")\n",
    "}\n",
    "else{\n",
    "    Write-Host \"Whatever.\"\n",
    "}"
   ]
  }
 ],
 "metadata": {
  "kernelspec": {
   "display_name": ".NET (C#)",
   "language": "C#",
   "name": ".net-csharp"
  },
  "language_info": {
   "name": "python"
  },
  "polyglot_notebook": {
   "kernelInfo": {
    "defaultKernelName": "csharp",
    "items": [
     {
      "aliases": [],
      "name": "csharp"
     }
    ]
   }
  }
 },
 "nbformat": 4,
 "nbformat_minor": 2
}
