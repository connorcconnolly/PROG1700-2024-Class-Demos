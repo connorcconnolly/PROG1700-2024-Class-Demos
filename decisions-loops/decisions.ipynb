{
 "cells": [
  {
   "cell_type": "code",
   "execution_count": 1,
   "metadata": {
    "dotnet_interactive": {
     "language": "pwsh"
    },
    "polyglot_notebook": {
     "kernelName": "pwsh"
    },
    "vscode": {
     "languageId": "polyglot-notebook"
    }
   },
   "outputs": [
    {
     "name": "stdout",
     "output_type": "stream",
     "text": [
      "False\r\n"
     ]
    }
   ],
   "source": [
    "$booleanVar=$true\n",
    "$booleanVar=$false\n",
    "$booleanVar"
   ]
  },
  {
   "cell_type": "code",
   "execution_count": 12,
   "metadata": {
    "dotnet_interactive": {
     "language": "pwsh"
    },
    "polyglot_notebook": {
     "kernelName": "pwsh"
    },
    "vscode": {
     "languageId": "polyglot-notebook"
    }
   },
   "outputs": [
    {
     "name": "stdout",
     "output_type": "stream",
     "text": [
      "False\n",
      "True\n"
     ]
    }
   ],
   "source": [
    "#converting to a boolean\n",
    "$yes=\"false\"\n",
    "$boolYes=[bool]::Parse($yes) #can parse the strings \"true\" and \"false\". any other string throws error\n",
    "$boolYes\n",
    "$integer=-1\n",
    "$boolInt=[bool]$integer\n",
    "$boolInt\n",
    "#0 gives false, any other number, including negatives, return true\n",
    "\n",
    "$boolYes=[bool]$yes\n",
    "$boolYes"
   ]
  },
  {
   "cell_type": "code",
   "execution_count": 13,
   "metadata": {
    "dotnet_interactive": {
     "language": "pwsh"
    },
    "polyglot_notebook": {
     "kernelName": "pwsh"
    },
    "vscode": {
     "languageId": "polyglot-notebook"
    }
   },
   "outputs": [
    {
     "name": "stdout",
     "output_type": "stream",
     "text": [
      "False\n",
      "False\n",
      "True\n",
      "True\n",
      "False\n",
      "True\n"
     ]
    }
   ],
   "source": [
    "#compare 2 numbers\n",
    "1 -gt 2\n",
    "1 -ge 2\n",
    "1 -lt 2\n",
    "1 -le 2\n",
    "1 -eq 2\n",
    "1 -ne 2\n",
    "#> , ≥, <, ≤, =, !="
   ]
  },
  {
   "cell_type": "code",
   "execution_count": 16,
   "metadata": {
    "dotnet_interactive": {
     "language": "pwsh"
    },
    "polyglot_notebook": {
     "kernelName": "pwsh"
    },
    "vscode": {
     "languageId": "polyglot-notebook"
    }
   },
   "outputs": [
    {
     "name": "stdout",
     "output_type": "stream",
     "text": [
      "False\n",
      "True\n",
      "False\n"
     ]
    }
   ],
   "source": [
    "#comparing strings\n",
    "\"abc\" -eq \"123\"\n",
    "\"apple\" -eq \"APPLE\" #str comparisons not case sensitive by default\n",
    "\"apple\" -ceq \"APPLE\" #this makes it case sensitive\n",
    "\"apple\" -ieq \"APPLE\" #specifies case insensitive"
   ]
  },
  {
   "cell_type": "code",
   "execution_count": 20,
   "metadata": {
    "dotnet_interactive": {
     "language": "pwsh"
    },
    "polyglot_notebook": {
     "kernelName": "pwsh"
    },
    "vscode": {
     "languageId": "polyglot-notebook"
    }
   },
   "outputs": [
    {
     "name": "stdout",
     "output_type": "stream",
     "text": [
      "True\n",
      "True\n",
      "True\n",
      "False\n",
      "True\n"
     ]
    }
   ],
   "source": [
    "0 -eq $false #comparing ints\n",
    "$false -eq 0 #comparing bools\n",
    "\n",
    "1 -eq $true #comparing ints\n",
    "3 -eq $true #comparing ints. $true gets converted to int value 1\n",
    "$true -eq 3 #comparing bools. 3 gets converted to boolean value True"
   ]
  },
  {
   "cell_type": "code",
   "execution_count": 24,
   "metadata": {
    "dotnet_interactive": {
     "language": "pwsh"
    },
    "polyglot_notebook": {
     "kernelName": "pwsh"
    },
    "vscode": {
     "languageId": "polyglot-notebook"
    }
   },
   "outputs": [
    {
     "name": "stdout",
     "output_type": "stream",
     "text": [
      "0.3\n",
      "False\n",
      "True\n"
     ]
    }
   ],
   "source": [
    "#problematic decimals\n",
    "$a=0.1\n",
    "$b=0.2\n",
    "$a+$b\n",
    "($a+$b) -eq 0.3\n",
    "#exact comparison of decimal values is a bad idea\n",
    "#you can do it if you round\n",
    "[Math]::Round($a+$b,3) -eq [Math]::Round(0.3,3)\n"
   ]
  },
  {
   "cell_type": "code",
   "execution_count": 26,
   "metadata": {
    "dotnet_interactive": {
     "language": "pwsh"
    },
    "polyglot_notebook": {
     "kernelName": "pwsh"
    },
    "vscode": {
     "languageId": "polyglot-notebook"
    }
   },
   "outputs": [
    {
     "name": "stdout",
     "output_type": "stream",
     "text": [
      " !\"#$%&'()*+,-./0123456789:;<=>?@ABCDEFGHIJKLMNOPQRSTUVWXYZ[\\]^_`abcdefghijklmnopqrstuvwxyz{|}~\n",
      " _-,;:!?.'\"()[]{}@*/\\&#%`^+<=>|~$0123456789AaBbCcDdEeFfGgHhIiJjKkLlMmNnOoPpQqRrSsTtUuVvWwXxYyZz\n"
     ]
    }
   ],
   "source": [
    "#ASCII\n",
    "-join @(32..127 | % { [char]$_} | sort -Stable)\n",
    "#PowerShell\n",
    "-join @(32..127 | % { [string][char]$_} | sort -Stable)"
   ]
  },
  {
   "cell_type": "code",
   "execution_count": 32,
   "metadata": {
    "dotnet_interactive": {
     "language": "pwsh"
    },
    "polyglot_notebook": {
     "kernelName": "pwsh"
    },
    "vscode": {
     "languageId": "polyglot-notebook"
    }
   },
   "outputs": [
    {
     "name": "stdout",
     "output_type": "stream",
     "text": [
      "5 < 10\r\n"
     ]
    }
   ],
   "source": [
    "$num = 5\n",
    "if ($num -lt 10){\n",
    "    Write-Host \"$num < 10\"\n",
    "}\n",
    "else{\n",
    "    Write-Host \"$num is not less than 10\"\n",
    "}"
   ]
  },
  {
   "cell_type": "code",
   "execution_count": 42,
   "metadata": {
    "dotnet_interactive": {
     "language": "pwsh"
    },
    "polyglot_notebook": {
     "kernelName": "pwsh"
    },
    "vscode": {
     "languageId": "polyglot-notebook"
    }
   },
   "outputs": [
    {
     "name": "stdout",
     "output_type": "stream",
     "text": [
      "VII\r\n"
     ]
    }
   ],
   "source": [
    "#script that asks user for a number and displays roman numeral equivalent\n",
    "$num = Read-Host(\"Enter a number\")\n",
    "$romanNumeral=\"\"\n",
    "if($num -eq 1){Write-Host \"I\" }\n",
    "if($num -eq 2){Write-Host \"II\" }\n",
    "if($num -eq 3){Write-Host \"III\" }\n",
    "if($num -eq 4){Write-Host \"IV\" }\n",
    "if($num -eq 5){Write-Host \"V\" }\n",
    "if($num -eq 6){Write-Host \"VI\" }\n",
    "if($num -eq 7){Write-Host \"VII\" }\n",
    "if($num -eq 8){Write-Host \"IIX\" }\n",
    "if($num -eq 9){Write-Host \"IX\" }\n",
    "if($num -eq 10){Write-Host \"X\" }"
   ]
  },
  {
   "cell_type": "code",
   "execution_count": 45,
   "metadata": {
    "dotnet_interactive": {
     "language": "pwsh"
    },
    "polyglot_notebook": {
     "kernelName": "pwsh"
    },
    "vscode": {
     "languageId": "polyglot-notebook"
    }
   },
   "outputs": [
    {
     "name": "stdout",
     "output_type": "stream",
     "text": [
      "VI\r\n"
     ]
    }
   ],
   "source": [
    "#script that asks user for a number and displays roman numeral equivalent\n",
    "$num = Read-Host(\"Enter a number\")\n",
    "$romanNumeral=\"\"\n",
    "\n",
    "    if($num -eq 1){Write-Host \"I\" }\n",
    "    elseif($num -eq 2){Write-Host \"II\" }\n",
    "    elseif($num -eq 3){Write-Host \"III\" }\n",
    "    elseif($num -eq 4){Write-Host \"IV\" }\n",
    "    elseif($num -eq 5){Write-Host \"V\" }\n",
    "    elseif($num -eq 6){Write-Host \"VI\" }\n",
    "    elseif($num -eq 7){Write-Host \"VII\" }\n",
    "    elseif($num -eq 8){Write-Host \"IIX\" }\n",
    "    elseif($num -eq 9){Write-Host \"IX\" }\n",
    "    elseif($num -eq 10){Write-Host \"X\" }\n"
   ]
  },
  {
   "cell_type": "code",
   "execution_count": 53,
   "metadata": {
    "dotnet_interactive": {
     "language": "pwsh"
    },
    "polyglot_notebook": {
     "kernelName": "pwsh"
    },
    "vscode": {
     "languageId": "polyglot-notebook"
    }
   },
   "outputs": [
    {
     "name": "stdout",
     "output_type": "stream",
     "text": [
      "Eatin Froot\r\n"
     ]
    }
   ],
   "source": [
    "#compound comparisons\n",
    "$lunch = \"orange\"\n",
    "if ($lunch -eq \"apple\" -or $lunch -eq \"banana\" -or $lunch -eq \"orange\"){\n",
    "    Write-Host \"Eatin Froot\"\n",
    "}\n",
    "else{\n",
    "    Write-Host \"Eatin summing else\"\n",
    "}"
   ]
  },
  {
   "cell_type": "code",
   "execution_count": 55,
   "metadata": {
    "dotnet_interactive": {
     "language": "pwsh"
    },
    "polyglot_notebook": {
     "kernelName": "pwsh"
    },
    "vscode": {
     "languageId": "polyglot-notebook"
    }
   },
   "outputs": [
    {
     "name": "stdout",
     "output_type": "stream",
     "text": [
      "Eatin summing else\r\n"
     ]
    }
   ],
   "source": [
    "#compound comparisons\n",
    "$lunch = \"orange\"\n",
    "#$snack = \"broccoli\"\n",
    "$snack = \"nah\"\n",
    "if ($lunch -eq \"orange\" -and $snack -eq \"broccoli\"){\n",
    "    Write-Host \"Eatin Healthy\"\n",
    "}\n",
    "else{\n",
    "    Write-Host \"Eatin summing else\"\n",
    "}"
   ]
  },
  {
   "cell_type": "code",
   "execution_count": null,
   "metadata": {
    "vscode": {
     "languageId": "polyglot-notebook"
    }
   },
   "outputs": [],
   "source": []
  }
 ],
 "metadata": {
  "kernelspec": {
   "display_name": ".NET (C#)",
   "language": "C#",
   "name": ".net-csharp"
  },
  "language_info": {
   "name": "python"
  },
  "polyglot_notebook": {
   "kernelInfo": {
    "defaultKernelName": "csharp",
    "items": [
     {
      "aliases": [],
      "name": "csharp"
     }
    ]
   }
  }
 },
 "nbformat": 4,
 "nbformat_minor": 2
}
