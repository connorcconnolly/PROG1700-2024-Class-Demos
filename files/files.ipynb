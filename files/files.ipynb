{
 "cells": [
  {
   "cell_type": "code",
   "execution_count": 2,
   "metadata": {
    "dotnet_interactive": {
     "language": "pwsh"
    },
    "polyglot_notebook": {
     "kernelName": "pwsh"
    },
    "vscode": {
     "languageId": "polyglot-notebook"
    }
   },
   "outputs": [
    {
     "name": "stdout",
     "output_type": "stream",
     "text": [
      "\n",
      "\u001b[32;1mPath\u001b[0m\n",
      "\u001b[32;1m----\u001b[0m\n",
      "C:\\Users\\W0509557\\OneDrive - Nova Scotia Community College\\Documents\\PROG1700\\Class Demos\\files\\em…\n",
      "\n"
     ]
    }
   ],
   "source": [
    "$relative_path =\"..\\files\\emojis.ps1\"\n",
    "Resolve-Path $relative_path"
   ]
  },
  {
   "cell_type": "markdown",
   "metadata": {},
   "source": [
    "# Lecture Two\n"
   ]
  },
  {
   "cell_type": "markdown",
   "metadata": {},
   "source": [
    "## Modules\n",
    "\n",
    "What is a 'module'?\n",
    "\n",
    "    -A powershell script configured so the functions defined within the script can be run at the powershell command line\n",
    "\n",
    "How to use a module?\n",
    "\n",
    "    -save script as a .psm1\n",
    "    \n",
    "    -Install Module\n",
    "        Install from powershell gallery : Install-Module <module name>\n",
    "        Import: Import-Module .\\module_name.psm1\n",
    "        for a module you created locally, you only have to import it\n",
    "        you can see where your modules have been installed using $env:PSModulePath\n"
   ]
  },
  {
   "cell_type": "markdown",
   "metadata": {},
   "source": [
    "##FILE I/O\n"
   ]
  },
  {
   "cell_type": "code",
   "execution_count": null,
   "metadata": {
    "dotnet_interactive": {
     "language": "pwsh"
    },
    "polyglot_notebook": {
     "kernelName": "pwsh"
    },
    "vscode": {
     "languageId": "polyglot-notebook"
    }
   },
   "outputs": [],
   "source": [
    "#writes entire contents of a file to given data\n",
    "Set-Content -Path filename.txt -Value \"stuff to write\"\n"
   ]
  }
 ],
 "metadata": {
  "kernelspec": {
   "display_name": ".NET (C#)",
   "language": "C#",
   "name": ".net-csharp"
  },
  "language_info": {
   "name": "python"
  },
  "polyglot_notebook": {
   "kernelInfo": {
    "defaultKernelName": "csharp",
    "items": [
     {
      "aliases": [],
      "name": "csharp"
     }
    ]
   }
  }
 },
 "nbformat": 4,
 "nbformat_minor": 2
}
