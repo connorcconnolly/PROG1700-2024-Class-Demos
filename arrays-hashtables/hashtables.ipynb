{
 "cells": [
  {
   "cell_type": "code",
   "execution_count": null,
   "metadata": {
    "dotnet_interactive": {
     "language": "csharp"
    },
    "polyglot_notebook": {
     "kernelName": "csharp"
    },
    "vscode": {
     "languageId": "polyglot-notebook"
    }
   },
   "outputs": [],
   "source": []
  },
  {
   "cell_type": "code",
   "execution_count": null,
   "metadata": {
    "dotnet_interactive": {
     "language": "pwsh"
    },
    "polyglot_notebook": {
     "kernelName": "pwsh"
    },
    "vscode": {
     "languageId": "polyglot-notebook"
    }
   },
   "outputs": [],
   "source": [
    "$hash_table=@{\n",
    "    #key=value;\n",
    "    apple=10; banana=222; orange=354;\n",
    "}"
   ]
  },
  {
   "cell_type": "code",
   "execution_count": 4,
   "metadata": {
    "dotnet_interactive": {
     "language": "pwsh"
    },
    "polyglot_notebook": {
     "kernelName": "pwsh"
    },
    "vscode": {
     "languageId": "polyglot-notebook"
    }
   },
   "outputs": [
    {
     "name": "stdout",
     "output_type": "stream",
     "text": [
      "44199554\n",
      "44199554\n",
      "[plates, 4]\n"
     ]
    }
   ],
   "source": [
    "#declaring a hash table\n",
    "$fruitInventory =@{\n",
    "    apple=12;\n",
    "    banana=23;\n",
    "    orange=12;\n",
    "    \"green apple\"=10;\n",
    "}\n",
    "\n",
    "#empty hash table\n",
    "$empty_table=@{}\n",
    "\n",
    "#adding to Hash table\n",
    "#Hash Tables are mutable!\n",
    "$empty_table.GetHashCode()\n",
    "$empty_table[\"plates\"]=4\n",
    "$empty_table.GetHashCode()\n",
    "Write-Host($empty_table)"
   ]
  },
  {
   "cell_type": "code",
   "execution_count": 7,
   "metadata": {
    "dotnet_interactive": {
     "language": "pwsh"
    },
    "polyglot_notebook": {
     "kernelName": "pwsh"
    },
    "vscode": {
     "languageId": "polyglot-notebook"
    }
   },
   "outputs": [
    {
     "name": "stdout",
     "output_type": "stream",
     "text": [
      "john@nscc\n",
      "jane@nscc\n",
      "True\n"
     ]
    }
   ],
   "source": [
    "#accessing Hash Tables\n",
    "\n",
    "$emails=@{\n",
    "    john=\"john@nscc\";\n",
    "    jacob=\"jacob@nscc\";\n",
    "    jane=\"jane@nscc\";\n",
    "    }\n",
    "$emails['john'] #array notation\n",
    "$emails.jane #dot notation\n",
    "\n",
    "$emails.sue -eq $null #accessing HT at key that doesnt exist returns a null value\n",
    "\n",
    "#adding\n",
    "$emails.sue=\"sue@nscc\"\n",
    "$emails['smith']=\"smith@nscc\""
   ]
  },
  {
   "cell_type": "code",
   "execution_count": 20,
   "metadata": {
    "dotnet_interactive": {
     "language": "pwsh"
    },
    "polyglot_notebook": {
     "kernelName": "pwsh"
    },
    "vscode": {
     "languageId": "polyglot-notebook"
    }
   },
   "outputs": [
    {
     "name": "stdout",
     "output_type": "stream",
     "text": [
      "Hash Table:\n",
      "\n",
      "\u001b[32;1mName                          \u001b[0m\u001b[32;1m Value\u001b[0m\n",
      "\u001b[32;1m----                          \u001b[0m \u001b[32;1m-----\u001b[0m\n",
      "abe                            abe@nscc\n",
      "bob                            bob@nscc\n",
      "carl                           carl@nscc\n",
      "\n",
      "Dictionary:\n",
      "bob                            bob@nscc\n",
      "abe                            abe@nscc\n",
      "carl                           carl@nscc\n",
      "\n"
     ]
    }
   ],
   "source": [
    "#hash tables are unordered\n",
    "Write-host(\"Hash Table:\")\n",
    "$emails=@{\n",
    "    bob=\"bob@nscc\";\n",
    "    abe=\"abe@nscc\";\n",
    "    carl=\"carl@nscc\";\n",
    "    }\n",
    "$emails\n",
    "Write-host(\"`nDictionary:\")\n",
    "#dictionaries are ordered\n",
    "$emails= [ordered]@{\n",
    "    bob=\"bob@nscc\";\n",
    "    abe=\"abe@nscc\";\n",
    "    carl=\"carl@nscc\";\n",
    "    }\n",
    "$emails\n"
   ]
  },
  {
   "cell_type": "code",
   "execution_count": 24,
   "metadata": {
    "dotnet_interactive": {
     "language": "pwsh"
    },
    "polyglot_notebook": {
     "kernelName": "pwsh"
    },
    "vscode": {
     "languageId": "polyglot-notebook"
    }
   },
   "outputs": [
    {
     "name": "stdout",
     "output_type": "stream",
     "text": [
      "abe@nscc\n",
      "bob@nscc\n",
      "carl@nscc\n",
      "abe , abe@nscc\n",
      "bob , bob@nscc\n",
      "carl , carl@nscc\n"
     ]
    }
   ],
   "source": [
    "#iterating over hash tables\n",
    "#because HTs are unordered, you will not be able to iterate over them in a particular order\n",
    "$emails=@{\n",
    "    bob=\"bob@nscc\";\n",
    "    abe=\"abe@nscc\";\n",
    "    carl=\"carl@nscc\";\n",
    "    dave=\"dave@nscc\";\n",
    "    }\n",
    "\n",
    "foreach($k in $emails.Keys){\n",
    "    $emails[$k]\n",
    "}\n",
    "\n",
    "foreach($email in $emails.GetEnumerator()){\n",
    "    Write-Host $email.Name \",\" $email.Value\n",
    "}"
   ]
  },
  {
   "cell_type": "code",
   "execution_count": 30,
   "metadata": {
    "dotnet_interactive": {
     "language": "pwsh"
    },
    "polyglot_notebook": {
     "kernelName": "pwsh"
    },
    "vscode": {
     "languageId": "polyglot-notebook"
    }
   },
   "outputs": [
    {
     "name": "stdout",
     "output_type": "stream",
     "text": [
      "abe@nscc\n",
      "bob@nscc\n",
      "carl@nscc\n",
      "dave@nscc\n"
     ]
    }
   ],
   "source": [
    "#sorting a hash table\n",
    "$emails=@{\n",
    "    bob=\"bob@nscc\";\n",
    "    abe=\"abe@nscc\";\n",
    "    carl=\"carl@nscc\";\n",
    "    dave=\"dave@nscc\";\n",
    "    }\n",
    "$ordered_emails=[ordered]@{\n",
    "    abe=\"abe@nscc\";\n",
    "    bob=\"bob@nscc\";\n",
    "    carl=\"carl@nscc\";\n",
    "    dave=\"dave@nscc\";\n",
    "    }\n",
    "#sort the Keys\n",
    "$keys=$emails.Keys\n",
    "#$keys.GetType()\n",
    "\n",
    "$ordered_keys=$keys | sort\n",
    "foreach($k in $ordered_keys){\n",
    "    $emails[$k]\n",
    "}"
   ]
  },
  {
   "cell_type": "code",
   "execution_count": 34,
   "metadata": {
    "dotnet_interactive": {
     "language": "pwsh"
    },
    "polyglot_notebook": {
     "kernelName": "pwsh"
    },
    "vscode": {
     "languageId": "polyglot-notebook"
    }
   },
   "outputs": [
    {
     "name": "stdout",
     "output_type": "stream",
     "text": [
      "apple\n",
      "apple\n"
     ]
    }
   ],
   "source": [
    "#keep in mind for assignment\n",
    "$hash_table=@{\n",
    "    'a'='apple';\n",
    "    'j'='jacks';\n",
    "}\n",
    "$hash_table['a']\n",
    "$hash_table[\"apple\"[0]] #attempting to access array by giving it the key as \"apple\"[0], but that will return a char and so won't work\n",
    "$hash_table[[string]\"apple\"[0]]#this will work"
   ]
  }
 ],
 "metadata": {
  "kernelspec": {
   "display_name": ".NET (C#)",
   "language": "C#",
   "name": ".net-csharp"
  },
  "language_info": {
   "name": "python"
  },
  "polyglot_notebook": {
   "kernelInfo": {
    "defaultKernelName": "csharp",
    "items": [
     {
      "aliases": [],
      "name": "csharp"
     }
    ]
   }
  }
 },
 "nbformat": 4,
 "nbformat_minor": 2
}
