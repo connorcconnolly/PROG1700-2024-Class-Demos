{
 "cells": [
  {
   "cell_type": "code",
   "execution_count": 5,
   "metadata": {
    "dotnet_interactive": {
     "language": "pwsh"
    },
    "polyglot_notebook": {
     "kernelName": "pwsh"
    },
    "vscode": {
     "languageId": "polyglot-notebook"
    }
   },
   "outputs": [
    {
     "name": "stdout",
     "output_type": "stream",
     "text": [
      "\n",
      "\u001b[32;1mIsPublic\u001b[0m \u001b[32;1;3mIsSerial\u001b[0m\u001b[32;1m Name                                    \u001b[0m\u001b[32;1m BaseType\u001b[0m\n",
      "\u001b[32;1m--------\u001b[0m \u001b[32;1m--------\u001b[0m \u001b[32;1m----                                    \u001b[0m \u001b[32;1m--------\u001b[0m\n",
      "True     True     Object[]                                 System.Array\n",
      "True     True     Char                                     System.ValueType\n",
      "\n"
     ]
    }
   ],
   "source": [
    "#Strings are like Arrays\n",
    "$str=\"Apple\" \n",
    "#$str.GetType()#string\n",
    "$ary=$str[0..2]\n",
    "$ary.GetType()#array\n",
    "$ary[0].GetType()#char"
   ]
  },
  {
   "cell_type": "code",
   "execution_count": 6,
   "metadata": {
    "dotnet_interactive": {
     "language": "pwsh"
    },
    "polyglot_notebook": {
     "kernelName": "pwsh"
    },
    "vscode": {
     "languageId": "polyglot-notebook"
    }
   },
   "outputs": [
    {
     "name": "stdout",
     "output_type": "stream",
     "text": [
      "\n",
      "\u001b[32;1mIsPublic\u001b[0m \u001b[32;1;3mIsSerial\u001b[0m\u001b[32;1m Name                                    \u001b[0m\u001b[32;1m BaseType\u001b[0m\n",
      "\u001b[32;1m--------\u001b[0m \u001b[32;1m--------\u001b[0m \u001b[32;1m----                                    \u001b[0m \u001b[32;1m--------\u001b[0m\n",
      "True     True     String                                   System.Object\n",
      "\n"
     ]
    }
   ],
   "source": [
    "$letter='a' #this is still a string\n",
    "$letter.GetType()"
   ]
  },
  {
   "cell_type": "code",
   "execution_count": 10,
   "metadata": {
    "dotnet_interactive": {
     "language": "pwsh"
    },
    "polyglot_notebook": {
     "kernelName": "pwsh"
    },
    "vscode": {
     "languageId": "polyglot-notebook"
    }
   },
   "outputs": [
    {
     "name": "stdout",
     "output_type": "stream",
     "text": [
      "A\n",
      "p\n",
      "p\n",
      "l\n",
      "e\n"
     ]
    }
   ],
   "source": [
    "#iterating through strings\n",
    "\n",
    "#foreach loop\n",
    "\n",
    "foreach($ch in $str.ToCharArray()){\n",
    "    $ch\n",
    "}"
   ]
  },
  {
   "cell_type": "code",
   "execution_count": 5,
   "metadata": {
    "dotnet_interactive": {
     "language": "pwsh"
    },
    "polyglot_notebook": {
     "kernelName": "pwsh"
    },
    "vscode": {
     "languageId": "polyglot-notebook"
    }
   },
   "outputs": [
    {
     "name": "stdout",
     "output_type": "stream",
     "text": [
      "a,b,c,d,e\n",
      "a b c d e\n",
      "a:b:c:d:e\n",
      "abcde\n",
      "---------------\n",
      "a b c d e\n",
      "a b c d e\n",
      "a,b,c,d,e\n",
      "a b c d e\n",
      "abcde\n"
     ]
    }
   ],
   "source": [
    "#converting arrays into strings\n",
    "$letters=\"a\",\"b\",\"c\",\"d\",\"e\"\n",
    "\n",
    "#join the array\n",
    "$letters -join \",\"\n",
    "$letters -join \" \"\n",
    "$letters -join \":\"\n",
    "$LettersStr=$letters -join \"\"\n",
    "$LettersStr\n",
    "#$LettersStr.GetType() #string\n",
    "Write-Host(\"-\"*15)\n",
    "\n",
    "#the String Class\n",
    "[String]::Join(' ',$letters)\n",
    "#Casting to string with an Output Field Separator\n",
    "[string]$letters\n",
    "$OFS=\",\"\n",
    "[string]$letters\n",
    "$OFS=\" \"\n",
    "[string]$letters\n",
    "$OFS=\"\"\n",
    "[string]$letters"
   ]
  },
  {
   "cell_type": "code",
   "execution_count": 6,
   "metadata": {
    "dotnet_interactive": {
     "language": "pwsh"
    },
    "polyglot_notebook": {
     "kernelName": "pwsh"
    },
    "vscode": {
     "languageId": "polyglot-notebook"
    }
   },
   "outputs": [
    {
     "name": "stdout",
     "output_type": "stream",
     "text": [
      "h\n",
      " \n",
      "e\n",
      " \n",
      "l\n",
      " \n",
      "l\n",
      " \n",
      "o\n",
      "h\n",
      "e\n",
      "l\n",
      "l\n",
      "o\n",
      "Hello Smith, John.\n",
      "a\n",
      "b\n",
      "c,d,e,f,g\n",
      "a\n",
      "b\n",
      "c,d,e,f,g\n",
      "hello\n",
      "world\n",
      "he\n",
      "\n",
      "o wor\n",
      "d\n"
     ]
    }
   ],
   "source": [
    "#converting strings to Arrays\n",
    "$str=\"h e l l o\"\n",
    "$str.ToCharArray()\n",
    "\n",
    "$str -split \" \"\n",
    "\n",
    "$name= \"John Smith\"\n",
    "$first, $last =$name -split \" \"\n",
    "\n",
    "Write-Host(\"Hello {0}, {1}.\"-f $last, $first)\n",
    "\n",
    "$letters=\"a,b,c,d,e,f,g\"\n",
    "$letters -split \",\",3\n",
    "$letters.Split(\",\",3)\n",
    "\n",
    "\n",
    "\"hello world\".Split()#splits at whitespace\n",
    "\"hello world\".Split('l')#splits at l"
   ]
  },
  {
   "cell_type": "code",
   "execution_count": 1,
   "metadata": {
    "dotnet_interactive": {
     "language": "pwsh"
    },
    "polyglot_notebook": {
     "kernelName": "pwsh"
    },
    "vscode": {
     "languageId": "polyglot-notebook"
    }
   },
   "outputs": [
    {
     "name": "stdout",
     "output_type": "stream",
     "text": [
      "11\n",
      "HELLO WORLD\n",
      "hello\n",
      "\n",
      "\u001b[32;1mIsPublic\u001b[0m \u001b[32;1;3mIsSerial\u001b[0m\u001b[32;1m Name                                    \u001b[0m\u001b[32;1m BaseType\u001b[0m\n",
      "\u001b[32;1m--------\u001b[0m \u001b[32;1m--------\u001b[0m \u001b[32;1m----                                    \u001b[0m \u001b[32;1m--------\u001b[0m\n",
      "True     True     Char                                     System.ValueType\n",
      "------------------------------\n",
      "hell\n",
      "h\n",
      "True     True     String                                   System.Object\n",
      "hell\n",
      "------------------------------\n",
      "Z\n",
      "H\n",
      "True\n",
      "\n"
     ]
    }
   ],
   "source": [
    "#misc string functions\n",
    "$str=\"hello World\"\n",
    "$str.Length\n",
    "$str.ToUpper()\n",
    "\"HELLO\".ToLower()\n",
    "\n",
    "(\"Hello\"[0]).GetType()\n",
    "Write-Host(\"-\"*30)\n",
    "\n",
    "\"hello\".Substring(0,4)\n",
    "$sub=\"hello\".Substring(0,1)\n",
    "$sub\n",
    "$sub.GetType()\n",
    "$str=\"hello\"\n",
    "$str.Substring(0,4)\n",
    "Write-Host(\"-\"*30)\n",
    "[Char]::ToUpper('z')\n",
    "[Char]::ToUpper($str[0])\n",
    "[Char]::IsLetter(\"Hello\"[0])"
   ]
  },
  {
   "cell_type": "code",
   "execution_count": 9,
   "metadata": {
    "dotnet_interactive": {
     "language": "pwsh"
    },
    "polyglot_notebook": {
     "kernelName": "pwsh"
    },
    "vscode": {
     "languageId": "polyglot-notebook"
    }
   },
   "outputs": [
    {
     "name": "stdout",
     "output_type": "stream",
     "text": [
      "cabbage\n",
      "c= 3pts\n",
      "a= 1pt\n",
      "b= 3pts\n",
      "b= 3pts\n",
      "a= 1pt\n",
      "g= 2pts\n",
      "e= 1pt\n",
      "Your total score is: 14\n"
     ]
    }
   ],
   "source": [
    "#Compute a Word's scrabble score\n",
    "#1 point - A, E, I, O, U, L, N, S, T, R.\n",
    "#2 points - D, G.\n",
    "#3 points - B, C, M, P.\n",
    "#4 points - F, H, V, W, Y.\n",
    "#5 points - K.\n",
    "#8 points - J, X.\n",
    "#10 points - Q, Z.\n",
    "$one_point=\"A\",\"E\",\"I\",\"O\",\"U\",\"L\",\"N\",\"S\",\"T\",\"R\"\n",
    "$two_point=\"D\",\"G\"\n",
    "$three_point=\"B\",\"C\",\"M\",\"P\"\n",
    "$four_point=\"F\",\"H\",\"V\",\"W\",\"Y\"\n",
    "$five_point=\"K\"\n",
    "$eight_point=\"J\",\"X\"\n",
    "$ten_point=\"Q\",\"Z\"\n",
    "\n",
    "$word=Read-Host(\"Word\")\n",
    "Write-Host $word\n",
    "$total_points=0\n",
    "\n",
    "foreach($ch in $word.ToCharArray()){\n",
    "    if($ch -in $one_point){\n",
    "        Write-Host(\"{0}= 1pt\" -f $ch)\n",
    "        $total_points+=1\n",
    "    }\n",
    "    elseif($ch -in $two_point){\n",
    "        Write-Host(\"{0}= 2pts\" -f $ch)\n",
    "        $total_points+=2\n",
    "    }\n",
    "    elseif($ch -in $three_point){\n",
    "        Write-Host(\"{0}= 3pts\" -f $ch)\n",
    "        $total_points+=3\n",
    "    }\n",
    "    elseif($ch -in $four_point){\n",
    "        Write-Host(\"{0}= 4pts\" -f $ch)\n",
    "        $total_points+=4\n",
    "    }\n",
    "    elseif($ch -in $five_point){\n",
    "        Write-Host(\"{0}= 5pts\" -f $ch)\n",
    "        $total_points+=5\n",
    "    }\n",
    "    elseif($ch -in $eight_point){\n",
    "        Write-Host(\"{0}= 8pts\" -f $ch)\n",
    "        $total_points+=8\n",
    "    }\n",
    "    elseif($ch -in $ten_point){\n",
    "        Write-Host(\"{0}= 10pts\" -f $ch)\n",
    "        $total_points+=10\n",
    "    }\n",
    "}\n",
    "Write-Host(\"Your total score is: {0}\" -f $total_points)"
   ]
  },
  {
   "cell_type": "code",
   "execution_count": null,
   "metadata": {
    "dotnet_interactive": {
     "language": "csharp"
    },
    "polyglot_notebook": {
     "kernelName": "csharp"
    },
    "vscode": {
     "languageId": "polyglot-notebook"
    }
   },
   "outputs": [],
   "source": []
  }
 ],
 "metadata": {
  "kernelspec": {
   "display_name": ".NET (C#)",
   "language": "C#",
   "name": ".net-csharp"
  },
  "language_info": {
   "name": "python"
  },
  "polyglot_notebook": {
   "kernelInfo": {
    "defaultKernelName": "csharp",
    "items": [
     {
      "aliases": [],
      "name": "csharp"
     }
    ]
   }
  }
 },
 "nbformat": 4,
 "nbformat_minor": 2
}
