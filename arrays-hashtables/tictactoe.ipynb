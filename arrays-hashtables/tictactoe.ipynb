{
 "cells": [
  {
   "cell_type": "code",
   "execution_count": null,
   "metadata": {
    "dotnet_interactive": {
     "language": "pwsh"
    },
    "polyglot_notebook": {
     "kernelName": "pwsh"
    },
    "vscode": {
     "languageId": "polyglot-notebook"
    }
   },
   "outputs": [],
   "source": [
    "#array of arrays\n",
    "#nested arrays, or multidimensional arrays, or 2d arrays\n",
    "$tictactoe= @(\n",
    "    @('X','O','X'),\n",
    "    @('O','X','O'),\n",
    "    @('X','O','O')\n",
    ")\n",
    "#Loops to print Game in a grid.\n",
    "\n",
    "for($row=0; $row -lt 3; $row++){\n",
    "    for($col=0; $col -lt 3; $col++){\n",
    "        Write-Host(\" {0} |\" -f $tictactoe[$row][$col]) -NoNewline\n",
    "    }\n",
    "    Write-Host \"`n---|---|---\"\n",
    "}\n",
    "\n"
   ]
  },
  {
   "cell_type": "code",
   "execution_count": 4,
   "metadata": {
    "dotnet_interactive": {
     "language": "pwsh"
    },
    "polyglot_notebook": {
     "kernelName": "pwsh"
    },
    "vscode": {
     "languageId": "polyglot-notebook"
    }
   },
   "outputs": [
    {
     "name": "stdout",
     "output_type": "stream",
     "text": [
      "  1   2   3\n",
      "1 X | O | X\n",
      " ---+---+---\n",
      "2 O | X | O\n",
      " ---+---+---\n",
      "3 X | O | O\n",
      "X O X O X O X O O\n",
      "X\n",
      "O\n",
      "X\n",
      "O\n",
      "X\n",
      "O\n",
      "X\n",
      "O\n",
      "O\n",
      "Player X's turn\n",
      "X\n",
      "O\n",
      "X\n",
      "O\n",
      "X\n",
      "O\n",
      "X\n",
      "O\n",
      "O\n",
      "\u001b[31;1mInvalidOperation: \u001b[0m\n",
      "\u001b[31;1m\u001b[36;1mLine |\u001b[0m\n",
      "\u001b[31;1m\u001b[36;1m\u001b[36;1m  30 | \u001b[0m     \u001b[36;1m$tictactoe[$r-1][$c-1] = $player\u001b[0m\n",
      "\u001b[31;1m\u001b[36;1m\u001b[36;1m\u001b[0m\u001b[36;1m\u001b[0m\u001b[36;1m     | \u001b[31;1m     ~~~~~~~~~~~~~~~~~~~~~~~~~~~~~~~~\u001b[0m\n",
      "\u001b[31;1m\u001b[36;1m\u001b[36;1m\u001b[0m\u001b[36;1m\u001b[0m\u001b[36;1m\u001b[31;1m\u001b[31;1m\u001b[36;1m     | \u001b[31;1mCannot index into a null array.\u001b[0m\n",
      "  1   2   3\n",
      "1 X | O | X\n",
      " ---+---+---\n",
      "2 O | X | O\n",
      " ---+---+---\n",
      "3 X | O | O\n",
      "Player O's turn\n"
     ]
    },
    {
     "ename": "Error",
     "evalue": "Command cancelled.",
     "output_type": "error",
     "traceback": [
      "Command cancelled."
     ]
    }
   ],
   "source": [
    "#array of arrays\n",
    "#nested arrays, or multidimensional arrays, or 2d arrays\n",
    "$tictactoe= @(\n",
    "    @('X','O','X'),\n",
    "    @('O','X','O'),\n",
    "    @('X','O','O')\n",
    ")\n",
    "\n",
    "#draw grid\n",
    "Write-Host(\"  1   2   3\")\n",
    "$rows=@()\n",
    "for($row=0; $row -lt 3; $row++){\n",
    "    $rows+= \"$($row + 1) \" + ($tictactoe[$row] -join \" | \")\n",
    "}\n",
    "$rows -join \"`n ---+---+---`n\"\n",
    "\n",
    "Write-Host $tictactoe\n",
    "$players=\"X\",\"O\"\n",
    "$tictactoe\n",
    "foreach($player in $players){\n",
    "\n",
    "    Write-host(\"Player {0}'s turn\"-f $player)\n",
    "\n",
    "    #ask user to enter coord\n",
    "    $r,$c = Read-Host(\"Enter coordinates\") -split \",\"\n",
    "\n",
    "    #update board\n",
    "    $tictactoe\n",
    "\n",
    "    $tictactoe[$r-1][$c-1] = $player\n",
    "\n",
    "    Write-Host(\"  1   2   3\")\n",
    "    $rows=@()\n",
    "    for($row=0; $row -lt 3; $row++){\n",
    "        $rows+= \"$($row + 1) \" + ($tictactoe[$row] -join \" | \")\n",
    "    }\n",
    "    $rows -join \"`n ---+---+---`n\"\n",
    "}"
   ]
  },
  {
   "cell_type": "code",
   "execution_count": null,
   "metadata": {
    "dotnet_interactive": {
     "language": "pwsh"
    },
    "polyglot_notebook": {
     "kernelName": "pwsh"
    },
    "vscode": {
     "languageId": "polyglot-notebook"
    }
   },
   "outputs": [],
   "source": [
    "\n",
    "#play Game\n",
    "$game=$true\n",
    "$players=\"X\",\"O\"\n",
    "do{\n",
    "    foreach($player in $players){\n",
    "\n",
    "        Write-host(\"Player {0}'s turn\"-f $player)\n",
    "\n",
    "        #ask user to enter coord\n",
    "        $r,$c = Read-Host(\"Enter coordinates\") -split \",\"\n",
    "\n",
    "        #update board\n",
    "        Write-Host(\"$tictactoe\")\n",
    "\n",
    "        $tictactoe[$r-1][$c-1] = $player\n",
    "\n",
    "        Write-Host(\"  1   2   3\")\n",
    "        $rows=@()\n",
    "        for($row=0; $row -lt 3; $row++){\n",
    "            $rows+= \"$($row + 1) \" + ($tictactoe[$row] -join \" | \")\n",
    "        }\n",
    "        $rows -join \"`n ---+---+---`n\"\n",
    "    }\n",
    "        $game=$false\n",
    "}until($game=$false)\n",
    "   \n"
   ]
  }
 ],
 "metadata": {
  "kernelspec": {
   "display_name": ".NET (C#)",
   "language": "C#",
   "name": ".net-csharp"
  },
  "language_info": {
   "name": "python"
  },
  "polyglot_notebook": {
   "kernelInfo": {
    "defaultKernelName": "csharp",
    "items": [
     {
      "aliases": [],
      "name": "csharp"
     }
    ]
   }
  }
 },
 "nbformat": 4,
 "nbformat_minor": 2
}
