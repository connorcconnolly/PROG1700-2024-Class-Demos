{
 "cells": [
  {
   "cell_type": "markdown",
   "metadata": {},
   "source": [
    "Arrays"
   ]
  },
  {
   "cell_type": "code",
   "execution_count": 4,
   "metadata": {
    "dotnet_interactive": {
     "language": "pwsh"
    },
    "polyglot_notebook": {
     "kernelName": "pwsh"
    },
    "vscode": {
     "languageId": "polyglot-notebook"
    }
   },
   "outputs": [
    {
     "name": "stdout",
     "output_type": "stream",
     "text": [
      "john jacob jingleheimer schmidt\n",
      "54650072\n",
      "jane\n",
      "jacob\n",
      "jingleheimer\n",
      "schmidt\n",
      "zeus\n",
      "63193425\n"
     ]
    }
   ],
   "source": [
    "\n",
    "$usernames=\"john\",\"jacob\",\"jingleheimer\",\"schmidt\"\n",
    "Write-Host($usernames)\n",
    "#array size is immutable, but elements are mutable\n",
    "$usernames[0]=\"jane\"\n",
    "$usernames.GetHashCode()\n",
    "#appending still works, but what happens on the backend is a new array gets created and combines the old one with the addition\n",
    "$usernames+=\"zeus\"\n",
    "$usernames\n",
    "$usernames.GetHashCode()\n"
   ]
  },
  {
   "cell_type": "code",
   "execution_count": null,
   "metadata": {
    "dotnet_interactive": {
     "language": "pwsh"
    },
    "polyglot_notebook": {
     "kernelName": "pwsh"
    },
    "vscode": {
     "languageId": "polyglot-notebook"
    }
   },
   "outputs": [],
   "source": [
    "$fruit=\"apple\",\"banana\" #shortcut\n",
    "$fruit=@(\"apple\",\"banana\") #official approach\n",
    "#the official syntax is needed in some cases. for example, an array with only 1 value.\n",
    "$fruit=@(\"apple\")\n",
    "    #u can also do it this way but its stupid\n",
    "    $fruit1=,\"apple\"\n",
    "$fruit=@() #defines an empty array.\n"
   ]
  },
  {
   "cell_type": "code",
   "execution_count": 11,
   "metadata": {
    "dotnet_interactive": {
     "language": "pwsh"
    },
    "polyglot_notebook": {
     "kernelName": "pwsh"
    },
    "vscode": {
     "languageId": "polyglot-notebook"
    }
   },
   "outputs": [
    {
     "name": "stdout",
     "output_type": "stream",
     "text": [
      "0 0 0 0 0 0 0 0 0 0 0 0 0 0 0 0 0 0 0 0 0 0 0 0 0 0 0 0 0 0\n",
      "0 0 0 0 0 0 0 0 0 0 0 0 0 0 0 0 0 0 0 0 0 0 0 0 0 0 0 0 0 0\n",
      "1 2 3 4 5\n",
      "1 2 3 4 5 6 7 8 9 10\n",
      "1 2 3 4 7 8 9 10\n",
      "1 2\n"
     ]
    }
   ],
   "source": [
    "#other weird array definitions\n",
    "\n",
    "$zeroes=@(0)*30 #list with 30 integers of value 0\n",
    "Write-Host($zeroes)\n",
    "\n",
    "\n",
    "$zeroes=[int[]]::new(30) #array of integers with size 30, no prefilled values. \n",
    "Write-Host($zeroes)\n",
    "\n",
    "#[int[]] is a datatype that means list of integers\n",
    "[int[]]$numList=1,2,3,4,5\n",
    "\n",
    "Write-Host($numList)\n",
    "[int[]]$numbers =1..10 #1..10 means range of 1 to 10\n",
    "Write-Host($numbers)\n",
    "\n",
    "[int[]]$numbers =1..4+7..10 #\n",
    "Write-Host($numbers)\n",
    "\n",
    "#another way of defining a list with a single element\n",
    "[int[]]$shortList=1\n",
    "$shortList+=2\n",
    "Write-Host($shortList)\n",
    "\n",
    "\n"
   ]
  },
  {
   "cell_type": "code",
   "execution_count": 19,
   "metadata": {
    "dotnet_interactive": {
     "language": "pwsh"
    },
    "polyglot_notebook": {
     "kernelName": "pwsh"
    },
    "vscode": {
     "languageId": "polyglot-notebook"
    }
   },
   "outputs": [
    {
     "name": "stdout",
     "output_type": "stream",
     "text": [
      "10 11 12 13 14 15 16 17 18 19 20\n",
      "98\n",
      "99 98 97 96 95\n",
      "direction of iteration depends on how you write the range:\n",
      "70 71 72 73 74 75 76 77 78 79 80\n",
      "\n",
      "starting at position 5, counting down and wrapping to end of list:\n",
      "5 4 3 2 1 0 99 98 97 96 95\n"
     ]
    }
   ],
   "source": [
    "#accessing Arrays using Ranges\n",
    "[int[]]$numbers =0..99\n",
    "Write-Host $numbers[10..20]\n",
    "Write-Host $numbers[-2]\n",
    "Write-Host $numbers[-1..-5]\n",
    "\n",
    "Write-Host \"`direction of iteration depends on how you write the range:\"\n",
    "Write-Host $numbers[-30..-20]\n",
    "\n",
    "Write-Host \"`nstarting at position 5, counting down and wrapping to end of list:\"\n",
    "Write-Host $numbers[5..-5]\n"
   ]
  },
  {
   "cell_type": "code",
   "execution_count": 29,
   "metadata": {
    "dotnet_interactive": {
     "language": "pwsh"
    },
    "polyglot_notebook": {
     "kernelName": "pwsh"
    },
    "vscode": {
     "languageId": "polyglot-notebook"
    }
   },
   "outputs": [
    {
     "name": "stdout",
     "output_type": "stream",
     "text": [
      "1 , 2 , 3 , 4 , 5 , 6 , 7 , 8 , 9 , 10 , 11 , 12 , 13 , 14 , 15 , \n",
      "now fruit\n",
      "apple\n",
      "banna\n",
      "peach\n",
      "orange\n",
      "\n",
      "and another way:\n",
      "apple\n",
      "banna\n",
      "peach\n",
      "orange\n"
     ]
    }
   ],
   "source": [
    "[int[]]$numbers =1..15\n",
    "#iterating over elements\n",
    "\n",
    "for ($i=0; $i -lt $numbers.Length; $i++){\n",
    "    Write-Host $numbers[$i] \", \" -NoNewline\n",
    "}\n",
    "Write-Host \"`nnow fruit\"\n",
    "\n",
    "$fruit=@(\"apple\",\"banna\",\"peach\",\"orange\")\n",
    "foreach($f in $fruit){\n",
    "    Write-Host(\"$f\")\n",
    "}\n",
    "Write-Host \"`nand another way:\"\n",
    "$fruit | %{$_}"
   ]
  },
  {
   "cell_type": "code",
   "execution_count": 32,
   "metadata": {
    "dotnet_interactive": {
     "language": "pwsh"
    },
    "polyglot_notebook": {
     "kernelName": "pwsh"
    },
    "vscode": {
     "languageId": "polyglot-notebook"
    }
   },
   "outputs": [
    {
     "name": "stdout",
     "output_type": "stream",
     "text": [
      "Wrong:\n",
      "strawberryapple banna peach orange\n",
      "Correct:\n",
      "strawberry\n",
      "apple\n",
      "banna\n",
      "peach\n",
      "orange\n"
     ]
    }
   ],
   "source": [
    "#add element to beginning\n",
    "Write-Host \"Wrong:\"\n",
    "$fruit=@(\"apple\",\"banna\",\"peach\",\"orange\")\n",
    "$fruit = \"strawberry\"+$fruit\n",
    "$fruit\n",
    "\n",
    "Write-Host \"`nCorrect:\"\n",
    "$fruit=@(\"apple\",\"banna\",\"peach\",\"orange\")\n",
    "$fruit = [string[]] \"strawberry\"+$fruit\n",
    "$fruit"
   ]
  },
  {
   "cell_type": "code",
   "execution_count": 38,
   "metadata": {
    "dotnet_interactive": {
     "language": "pwsh"
    },
    "polyglot_notebook": {
     "kernelName": "pwsh"
    },
    "vscode": {
     "languageId": "polyglot-notebook"
    }
   },
   "outputs": [
    {
     "name": "stdout",
     "output_type": "stream",
     "text": [
      "apple\n",
      "banna\n",
      "peach\n",
      "orange\n",
      "\n",
      "Inserting at position i:\n",
      "apple\n",
      "banna\n",
      "strawberry\n",
      "peach\n",
      "orange\n"
     ]
    }
   ],
   "source": [
    "\n",
    "$fruit=@(\"apple\",\"banna\",\"peach\",\"orange\")\n",
    "$fruit\n",
    "Write-Host \"`nInserting at position i:\"\n",
    "$position=2\n",
    "$fruit = $fruit[0..($position-1)] +\"strawberry\" + $fruit[($position)..($fruit.Length-1)]\n",
    "$fruit"
   ]
  },
  {
   "cell_type": "code",
   "execution_count": 44,
   "metadata": {
    "dotnet_interactive": {
     "language": "pwsh"
    },
    "polyglot_notebook": {
     "kernelName": "pwsh"
    },
    "vscode": {
     "languageId": "polyglot-notebook"
    }
   },
   "outputs": [
    {
     "name": "stdout",
     "output_type": "stream",
     "text": [
      "strawberry\n",
      "4\n"
     ]
    }
   ],
   "source": [
    "$fruit=@(\"apple\",\"banna\",\"strawberry\",\"peach\",\"orange\")\n",
    "$fruit[2]\n",
    "[Array]::IndexOf($fruit, 'orange')"
   ]
  },
  {
   "cell_type": "code",
   "execution_count": 48,
   "metadata": {
    "dotnet_interactive": {
     "language": "pwsh"
    },
    "polyglot_notebook": {
     "kernelName": "pwsh"
    },
    "vscode": {
     "languageId": "polyglot-notebook"
    }
   },
   "outputs": [
    {
     "name": "stdout",
     "output_type": "stream",
     "text": [
      " X | O | X |\n",
      "---|---|---\n",
      " O | X | O |\n",
      "---|---|---\n",
      " X | O | O |\n",
      "---|---|---\n"
     ]
    }
   ],
   "source": [
    "#array of arrays\n",
    "#nested arrays, or multidimensional arrays, or 2d arrays\n",
    "$tictactoe= @(\n",
    "    @('X','O','X'),\n",
    "    @('O','X','O'),\n",
    "    @('X','O','O')\n",
    ")\n",
    "#Loops to print Game in a grid.\n",
    "\n",
    "for($row=0; $row -lt 3; $row++){\n",
    "    for($col=0; $col -lt 3; $col++){\n",
    "        Write-Host(\" {0} |\" -f $tictactoe[$row][$col]) -NoNewline\n",
    "    }\n",
    "    Write-Host \"`n---|---|---\"\n",
    "}\n",
    "\n"
   ]
  },
  {
   "cell_type": "code",
   "execution_count": 5,
   "metadata": {
    "dotnet_interactive": {
     "language": "pwsh"
    },
    "polyglot_notebook": {
     "kernelName": "pwsh"
    },
    "vscode": {
     "languageId": "polyglot-notebook"
    }
   },
   "outputs": [
    {
     "name": "stdout",
     "output_type": "stream",
     "text": [
      "10\n",
      "10\n",
      "20\n",
      "30\n",
      "1\n",
      "2\n",
      "3\n",
      "*******************\n",
      "1\n",
      "2\n",
      "3 4 5 6 7 8 9\n"
     ]
    }
   ],
   "source": [
    "#array destucturing\n",
    "$nums=10,20,30\n",
    "$nums[0]\n",
    "\n",
    "$num1, $num2, $num3 = $nums\n",
    "$num1, $num2, $num3\n",
    "Write-Host(\"*******************\")\n",
    "\n",
    "$a, $b, $c = 1, 2, 3\n",
    "$a, $b, $c\n",
    "Write-Host(\"*******************\")\n",
    "\n",
    "$d, $e, $f = 1,2,3,4,5,6,7,8,9\n",
    "Write-Host($d)\n",
    "Write-Host($e)\n",
    "Write-Host($f)"
   ]
  },
  {
   "cell_type": "code",
   "execution_count": 11,
   "metadata": {
    "dotnet_interactive": {
     "language": "pwsh"
    },
    "polyglot_notebook": {
     "kernelName": "pwsh"
    },
    "vscode": {
     "languageId": "polyglot-notebook"
    }
   },
   "outputs": [
    {
     "name": "stdout",
     "output_type": "stream",
     "text": [
      "2 4 6 8 10\n",
      "10 8 6 4 2\n",
      "10 8 6 4 2\n"
     ]
    }
   ],
   "source": [
    "$even_nums=2,4,6,8,10\n",
    "#reverse array\n",
    "\n",
    "Write-Host $even_nums\n",
    "\n",
    "#Makes a new array\n",
    "$rev_even_nums=$even_nums[-1..-($even_nums.Length)]\n",
    "Write-Host $rev_even_nums\n",
    "\n",
    "#Reverses original array\n",
    "[Array]::Reverse($even_nums)\n",
    "Write-Host $even_nums"
   ]
  },
  {
   "cell_type": "code",
   "execution_count": 13,
   "metadata": {
    "dotnet_interactive": {
     "language": "pwsh"
    },
    "polyglot_notebook": {
     "kernelName": "pwsh"
    },
    "vscode": {
     "languageId": "polyglot-notebook"
    }
   },
   "outputs": [
    {
     "name": "stdout",
     "output_type": "stream",
     "text": [
      "1 2 3 4 5 6 7 8 9\n",
      "1 2 3 4 5 6 7 8 9\n"
     ]
    }
   ],
   "source": [
    "$random_data=4,6,3,8,5,7,1,2,9\n",
    "\n",
    "#sorting Arrays\n",
    "#produces sorted array without modifying original.\n",
    "#piping array into sort command\n",
    "$sorted=$random_data | sort\n",
    "#sort is an alias for Sort-Object\n",
    "Write-Host $sorted\n",
    "\n",
    "#sort original array\n",
    "[Array]::Sort($random_data)\n",
    "Write-Host $random_data"
   ]
  },
  {
   "cell_type": "code",
   "execution_count": 18,
   "metadata": {
    "dotnet_interactive": {
     "language": "pwsh"
    },
    "polyglot_notebook": {
     "kernelName": "pwsh"
    },
    "vscode": {
     "languageId": "polyglot-notebook"
    }
   },
   "outputs": [
    {
     "name": "stdout",
     "output_type": "stream",
     "text": [
      "True\n",
      "False\n",
      "False\n",
      "True\n",
      "False\n"
     ]
    }
   ],
   "source": [
    "$letters='a'..'z'\n",
    "\n",
    "$letters -contains 'x'\n",
    "$letters -contains '1'\n",
    "$letters -notcontains 'x'\n",
    "\n",
    "'x' -in $letters\n",
    "'x' -notin $letters"
   ]
  },
  {
   "cell_type": "code",
   "execution_count": 20,
   "metadata": {
    "dotnet_interactive": {
     "language": "pwsh"
    },
    "polyglot_notebook": {
     "kernelName": "pwsh"
    },
    "vscode": {
     "languageId": "polyglot-notebook"
    }
   },
   "outputs": [
    {
     "name": "stdout",
     "output_type": "stream",
     "text": [
      "1 2 3 4 5\r\n"
     ]
    }
   ],
   "source": [
    "$duplicates=1,1,2,2,3,4,5,5,5\n",
    "#get unique elements\n",
    "\n",
    "$uniques=$duplicates | unique \n",
    "Write-Host($uniques)\n",
    "\n"
   ]
  },
  {
   "cell_type": "code",
   "execution_count": 28,
   "metadata": {
    "dotnet_interactive": {
     "language": "pwsh"
    },
    "polyglot_notebook": {
     "kernelName": "pwsh"
    },
    "vscode": {
     "languageId": "polyglot-notebook"
    }
   },
   "outputs": [
    {
     "name": "stdout",
     "output_type": "stream",
     "text": [
      "*****Get everything******\n",
      "Assignments\n",
      "Class Demos\n",
      "Other Resources\n",
      "PROG1700.code-workspace\n",
      "****only files******\n",
      "PROG1700.code-workspace\n",
      "******Get only folders******\n",
      "Assignments\n",
      "Class Demos\n",
      "Other Resources\n"
     ]
    }
   ],
   "source": [
    "#here's a useful trick\n",
    "Write-Host \"*****Get everything******\"\n",
    "$files=Get-ChildItem ..\\.. -Name\n",
    "$files\n",
    "\n",
    "Write-Host \"****only files******\"\n",
    "$files=Get-ChildItem ..\\.. -File -Name\n",
    "$files\n",
    "\n",
    "Write-Host \"******Get only folders******\"\n",
    "#GCI = get-childItem\n",
    "$folders=GCI ..\\.. -Directory -Name\n",
    "$folders"
   ]
  }
 ],
 "metadata": {
  "kernelspec": {
   "display_name": ".NET (C#)",
   "language": "C#",
   "name": ".net-csharp"
  },
  "language_info": {
   "name": "python"
  },
  "polyglot_notebook": {
   "kernelInfo": {
    "defaultKernelName": "csharp",
    "items": [
     {
      "aliases": [],
      "name": "csharp"
     }
    ]
   }
  }
 },
 "nbformat": 4,
 "nbformat_minor": 2
}
