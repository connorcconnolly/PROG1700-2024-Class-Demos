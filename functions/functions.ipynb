{
 "cells": [
  {
   "cell_type": "code",
   "execution_count": 22,
   "metadata": {
    "dotnet_interactive": {
     "language": "pwsh"
    },
    "polyglot_notebook": {
     "kernelName": "pwsh"
    },
    "vscode": {
     "languageId": "polyglot-notebook"
    }
   },
   "outputs": [
    {
     "name": "stdout",
     "output_type": "stream",
     "text": [
      "574638092\n",
      "2\n",
      "2\n",
      "4\n"
     ]
    }
   ],
   "source": [
    "Get-Random\n",
    "#random 32 bit integer\n",
    "#that is to say a random number between 1 and 2,147,483,647.\n",
    "\n",
    "#one way to get a number between one and ten would be to do this:\n",
    "(Get-Random) % 10 +1\n",
    "\n",
    "#or because powershell is good, you can add tags to Get-Random\n",
    "Get-Random -Minimum 1 -Maximum 10\n",
    "#you can also do this\n",
    "Get-Random(1..10)"
   ]
  },
  {
   "cell_type": "code",
   "execution_count": 12,
   "metadata": {
    "dotnet_interactive": {
     "language": "pwsh"
    },
    "polyglot_notebook": {
     "kernelName": "pwsh"
    },
    "vscode": {
     "languageId": "polyglot-notebook"
    }
   },
   "outputs": [
    {
     "name": "stdout",
     "output_type": "stream",
     "text": [
      "orange\r\n"
     ]
    }
   ],
   "source": [
    "#choose a random vale from an array\n",
    "$fruit=@(\"apple\",\"banna\",\"strawberry\",\"peach\",\"orange\")\n",
    "$fruit | Get-Random"
   ]
  },
  {
   "cell_type": "markdown",
   "metadata": {},
   "source": [
    "Functions\n",
    "-a way to encapsulate a block of code.\n",
    "Get-Random is a function or more accurately a cmdlet\n",
    "a cmdlet is an \"advanced\" function that is built into PowerShell or compiled using C#\n",
    "-a function is a reusable black of code that can be called/run using its name.\n",
    "-A well written function tends to have a single purpose\n",
    "\n",
    "Simple Functions:\n",
    "-a function that has no parameters and returns no value. \n",
    "-follows powershell naming convention: \"Verb-Noun\" such as Get-Random\n",
    "-list of PS approved verbs here: https://learn.microsoft.com/en-us/powershell/scripting/developer/cmdlet/approved-verbs-for-windows-powershell-commands?view=powershell-7.4 \n",
    "\n",
    "Function syntax:\n",
    "function Function-Name{\n",
    "    #function code here\n",
    "}"
   ]
  },
  {
   "cell_type": "code",
   "execution_count": 23,
   "metadata": {
    "dotnet_interactive": {
     "language": "pwsh"
    },
    "polyglot_notebook": {
     "kernelName": "pwsh"
    },
    "vscode": {
     "languageId": "polyglot-notebook"
    }
   },
   "outputs": [
    {
     "name": "stdout",
     "output_type": "stream",
     "text": [
      "Hello World\n",
      "Hello World\n"
     ]
    }
   ],
   "source": [
    "#function definition\n",
    "function Write-Hello{\n",
    "    Write-Host \"Hello World\"\n",
    "}\n",
    "#calling the function\n",
    "Write-Hello\n",
    "Write-Hello"
   ]
  },
  {
   "cell_type": "code",
   "execution_count": 24,
   "metadata": {
    "dotnet_interactive": {
     "language": "pwsh"
    },
    "polyglot_notebook": {
     "kernelName": "pwsh"
    },
    "vscode": {
     "languageId": "polyglot-notebook"
    }
   },
   "outputs": [
    {
     "name": "stdout",
     "output_type": "stream",
     "text": [
      "\u001b[31;1mStart-Process: \u001b[0m\n",
      "\u001b[31;1m\u001b[36;1mLine |\u001b[0m\n",
      "\u001b[31;1m\u001b[36;1m\u001b[36;1m   4 | \u001b[0m     \u001b[36;1mStart-Process Powershell -Verb RunAs\u001b[0m\n",
      "\u001b[31;1m\u001b[36;1m\u001b[36;1m\u001b[0m\u001b[36;1m\u001b[0m\u001b[36;1m     | \u001b[31;1m     ~~~~~~~~~~~~~~~~~~~~~~~~~~~~~~~~~~~~\u001b[0m\n",
      "\u001b[31;1m\u001b[36;1m\u001b[36;1m\u001b[0m\u001b[36;1m\u001b[0m\u001b[36;1m\u001b[31;1m\u001b[31;1m\u001b[36;1m     | \u001b[31;1mThis command cannot be run due to the error: An error occurred trying to start process 'C:\\WINDOWS\\System32\\WindowsPowerShell\\v1.0\\powershell.exe' with working directory 'C:\\Users\\W0509557\\OneDrive - Nova Scotia Community College\\Documents\\PROG1700\\Class Demos\\functions'. The operation was canceled by the user.\u001b[0m\n"
     ]
    },
    {
     "ename": "Error",
     "evalue": "Command failed: SubmitCode: #a useful example: ...",
     "output_type": "error",
     "traceback": [
      "Command failed: SubmitCode: #a useful example: ..."
     ]
    }
   ],
   "source": [
    "#a useful example:\n",
    "#a function that starts an elevated powershell instance\n",
    "function Start-PSAdmin{\n",
    "    Start-Process Powershell -Verb RunAs\n",
    "}\n",
    "Start-PSAdmin\n",
    "#won't work on these computers because we don't have admin perms, but you could try it on your personal machine."
   ]
  },
  {
   "cell_type": "markdown",
   "metadata": {},
   "source": [
    "Variable Scope\n",
    "-variables created inside a function only exist within that function. \n",
    "-variables that are changed within a function will not affect anything outside that function"
   ]
  },
  {
   "cell_type": "code",
   "execution_count": 26,
   "metadata": {
    "dotnet_interactive": {
     "language": "pwsh"
    },
    "polyglot_notebook": {
     "kernelName": "pwsh"
    },
    "vscode": {
     "languageId": "polyglot-notebook"
    }
   },
   "outputs": [
    {
     "name": "stdout",
     "output_type": "stream",
     "text": [
      "Value of x inside function: 4\n",
      "Value of x outside function: 3\n"
     ]
    }
   ],
   "source": [
    "#my own example\n",
    "function Change-X{\n",
    "    $x++\n",
    "    Write-Host \"Value of x inside function: $x\" #This function can see it's parent's variable, but can only change it within its own scope\n",
    "}\n",
    "$x=3 #local variable in the parent scope\n",
    "Change-X\n",
    "Write-Host \"Value of x outside function: $x\"\n"
   ]
  },
  {
   "cell_type": "markdown",
   "metadata": {},
   "source": [
    "-Basic rules of Scope:\n",
    "brace brackets define the scope or range of the variable.\n",
    "you can have scopes that nest\n",
    "an outer scope is referred to as the \"parent\" scope.\n",
    "An inner scope(s) are the \"child\" scopes of the parent\n",
    "a variable created in a parent scope is visible to the child as well, unless you explicitly make the varibale \"private\". more on that later.\n",
    "\n",
    "-four basic types of scope:\n",
    "Global -everything\n",
    "Local - Limited to the scope in which it was defined, and it's children. for example, functions\n",
    "Script - a script level variable is only accessible within that script\n",
    "Private - limited to the function in which it's defined. Its not accessible to children\n",
    "\n",
    "-scopes can be explicitly declared when creating a variable.\n",
    "$global:userIsAuthenticated \n",
    "$regularVariable #local\n",
    "$script:uniqueId \n",
    "$private:secret "
   ]
  },
  {
   "cell_type": "code",
   "execution_count": 30,
   "metadata": {
    "dotnet_interactive": {
     "language": "pwsh"
    },
    "polyglot_notebook": {
     "kernelName": "pwsh"
    },
    "vscode": {
     "languageId": "polyglot-notebook"
    }
   },
   "outputs": [
    {
     "name": "stdout",
     "output_type": "stream",
     "text": [
      "Bonjourno\n",
      "child:  Hello\n",
      "Hello\n",
      "child:  Hello\n"
     ]
    }
   ],
   "source": [
    "#Brian's example\n",
    "function Write-Hello{\n",
    "    Write-Host $global:greeting\n",
    "    $global:greeting=\"Hello\"\n",
    "    Write-Host \"child:  ${global:greeting}\"\n",
    "}\n",
    "$greeting=\"Bonjourno\"\n",
    "Write-Hello\n",
    "Write-Hello\n",
    "\n",
    "#using the global variable inside the function changes the value of $greeting everywhere and makes the changes persist. \n",
    "#same thing would apply to making greeting a script variable"
   ]
  },
  {
   "cell_type": "markdown",
   "metadata": {},
   "source": [
    "###\n",
    "___Parameters\n",
    "\n",
    "-allow a function to change its operation based on given values. \n",
    "    -eg. Get-Random -Minimum 1 -Maximum 10\n",
    "function Function-Name($Parameter){\n",
    "    #function code here\n",
    "    Write-Host $parameter\n",
    "}\n",
    "The powershell convention for naming parameters is PascalCase (as opposed to camelCase for variables)"
   ]
  },
  {
   "cell_type": "code",
   "execution_count": 38,
   "metadata": {
    "dotnet_interactive": {
     "language": "pwsh"
    },
    "polyglot_notebook": {
     "kernelName": "pwsh"
    },
    "vscode": {
     "languageId": "polyglot-notebook"
    }
   },
   "outputs": [
    {
     "name": "stdout",
     "output_type": "stream",
     "text": [
      "Hello, Johnny.\n",
      "Hello, Jack.\n",
      "Hello, Jill.\n",
      "Heya Johnny, .\n",
      "Hello, Jack.\n",
      "What's up, Jill.\n"
     ]
    }
   ],
   "source": [
    "function Write-Hello($Name){\n",
    "    Write-Host(\"Hello, $Name.\")\n",
    "}\n",
    "Write-Hello(\"Johnny\")\n",
    "Write-Hello -Name \"Jack\"\n",
    "Write-Hello \"Jill\"\n",
    "\n",
    "\n",
    "#rewriting Write-Hello to take in 2 parameters\n",
    "function Write-Hello($Greeting, $Name){\n",
    "    Write-Host(\"$Greeting, $Name.\")\n",
    "}\n",
    "Write-Hello(\"Heya\",\"Johnny\")#this one doesn't seem to work right. \n",
    "\n",
    "Write-Hello -Name \"Jack\" -Greeting \"Hello\"\n",
    "Write-Hello \"What's up\" \"Jill\""
   ]
  },
  {
   "cell_type": "code",
   "execution_count": 41,
   "metadata": {
    "dotnet_interactive": {
     "language": "pwsh"
    },
    "polyglot_notebook": {
     "kernelName": "pwsh"
    },
    "vscode": {
     "languageId": "polyglot-notebook"
    }
   },
   "outputs": [
    {
     "name": "stdout",
     "output_type": "stream",
     "text": [
      "3\r\n"
     ]
    }
   ],
   "source": [
    "#parameters, powershell approach\n",
    "function Add($a,$b){\n",
    "    $a+$b\n",
    "}\n",
    "Add 1 2\n"
   ]
  },
  {
   "cell_type": "code",
   "execution_count": 47,
   "metadata": {
    "dotnet_interactive": {
     "language": "pwsh"
    },
    "polyglot_notebook": {
     "kernelName": "pwsh"
    },
    "vscode": {
     "languageId": "polyglot-notebook"
    }
   },
   "outputs": [
    {
     "name": "stdout",
     "output_type": "stream",
     "text": [
      "\n",
      "\u001b[95mcmdlet MyAdd at command pipeline position 1\u001b[0m\n",
      "Supply values for the following parameters:\n"
     ]
    },
    {
     "ename": "Error",
     "evalue": "Input request cancelled",
     "output_type": "error",
     "traceback": [
      "Input request cancelled"
     ]
    },
    {
     "name": "stdout",
     "output_type": "stream",
     "text": [
      "\u001b[31;1mOperationStopped: \u001b[0m\n",
      "\u001b[31;1m\u001b[36;1mLine |\u001b[0m\n",
      "\u001b[31;1m\u001b[36;1m\u001b[36;1m  12 | \u001b[0m \u001b[36;1m3,4 | MyAdd\u001b[0m\n",
      "\u001b[31;1m\u001b[36;1m\u001b[36;1m\u001b[0m\u001b[36;1m\u001b[0m\u001b[36;1m     | \u001b[31;1m ~~~~~~~~~~~\u001b[0m\n",
      "\u001b[31;1m\u001b[36;1m\u001b[36;1m\u001b[0m\u001b[36;1m\u001b[0m\u001b[36;1m\u001b[31;1m\u001b[31;1m\u001b[36;1m     | \u001b[31;1mInput request cancelled\u001b[0m\n"
     ]
    },
    {
     "ename": "Error",
     "evalue": "Command failed: SubmitCode: function MyAdd{ ...",
     "output_type": "error",
     "traceback": [
      "Command failed: SubmitCode: function MyAdd{ ..."
     ]
    }
   ],
   "source": [
    "function Add{\n",
    "    param(\n",
    "        [Parameter(Mandatory=$true)]\n",
    "        [int]$a,\n",
    "        [Parameter(Mandatory=$true)]\n",
    "        [ValidateRange(0,100)]\n",
    "        [int]$b\n",
    "    )\n",
    "    $a+$b\n",
    "}\n",
    "Add 4 2\n",
    "Add 1 300\n"
   ]
  },
  {
   "cell_type": "code",
   "execution_count": 48,
   "metadata": {
    "dotnet_interactive": {
     "language": "pwsh"
    },
    "polyglot_notebook": {
     "kernelName": "pwsh"
    },
    "vscode": {
     "languageId": "polyglot-notebook"
    }
   },
   "outputs": [
    {
     "name": "stdout",
     "output_type": "stream",
     "text": [
      "3\r\n"
     ]
    }
   ],
   "source": [
    "#positional parameters\n",
    "function Add{\n",
    "    $args[0]+$args[1]\n",
    "}\n",
    "Add 1 2"
   ]
  }
 ],
 "metadata": {
  "kernelspec": {
   "display_name": ".NET (C#)",
   "language": "C#",
   "name": ".net-csharp"
  },
  "language_info": {
   "name": "python"
  },
  "polyglot_notebook": {
   "kernelInfo": {
    "defaultKernelName": "csharp",
    "items": [
     {
      "aliases": [],
      "name": "csharp"
     }
    ]
   }
  }
 },
 "nbformat": 4,
 "nbformat_minor": 2
}
