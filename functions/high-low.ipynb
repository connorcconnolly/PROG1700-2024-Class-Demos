{
 "cells": [
  {
   "cell_type": "code",
   "execution_count": null,
   "metadata": {
    "dotnet_interactive": {
     "language": "pwsh"
    },
    "polyglot_notebook": {
     "kernelName": "pwsh"
    },
    "vscode": {
     "languageId": "polyglot-notebook"
    }
   },
   "outputs": [],
   "source": [
    "#high low game. this is going to be a an ongoing project for us to apply our learning to\n",
    "\n",
    "#computer generates a random number,\n",
    "#the user is given a certain number of guesses \n",
    "#after each guess the computer will tell the user higher or lower.\n",
    "#the user wins if they guess the number within the alloted number of guesses.\n"
   ]
  },
  {
   "cell_type": "code",
   "execution_count": 5,
   "metadata": {
    "dotnet_interactive": {
     "language": "pwsh"
    },
    "polyglot_notebook": {
     "kernelName": "pwsh"
    },
    "vscode": {
     "languageId": "polyglot-notebook"
    }
   },
   "outputs": [
    {
     "name": "stdout",
     "output_type": "stream",
     "text": [
      "1\n",
      "you win\n"
     ]
    }
   ],
   "source": [
    "#first attempt\n",
    "#step 1: generate a random number between 1 and ten\n",
    "$answer = Get-Random -Minimum 1 -Maximum 10\n",
    "$answer #output answer for degugging reasons\n",
    "\n",
    "#step 2: ask the user for their guess\n",
    "$guess= Read-Host(\"GUess the number!\")\n",
    "\n",
    "#step 3: check\n",
    "if ($guess -gt $answer){\n",
    "    Write-Host(\"Too high\")\n",
    "}\n",
    "elseif ($guess -lt $answer){\n",
    "    Write-Host(\"Too Low\")\n",
    "}\n",
    "else{\n",
    "    Write-Host(\"you win\")\n",
    "}\n",
    "\n",
    "\n"
   ]
  },
  {
   "cell_type": "code",
   "execution_count": 6,
   "metadata": {
    "dotnet_interactive": {
     "language": "pwsh"
    },
    "polyglot_notebook": {
     "kernelName": "pwsh"
    },
    "vscode": {
     "languageId": "polyglot-notebook"
    }
   },
   "outputs": [
    {
     "name": "stdout",
     "output_type": "stream",
     "text": [
      "Too Low\r\n"
     ]
    }
   ],
   "source": [
    "#improving it using functions\n",
    "function Run-HighLow{\n",
    "    #step 1: generate a random number between 1 and ten\n",
    "    $answer = Get-Random -Minimum 1 -Maximum 10\n",
    "    $answer #output answer for degugging reasons\n",
    "\n",
    "    #step 2: ask the user for their guess\n",
    "    $guess= Read-Host(\"GUess the number!\")\n",
    "\n",
    "    #step 3: check\n",
    "    if ($guess -gt $answer){\n",
    "        Write-Host(\"Too high\")\n",
    "    }\n",
    "    elseif ($guess -lt $answer){\n",
    "        Write-Host(\"Too Low\")\n",
    "    }\n",
    "    else{\n",
    "        Write-Host(\"you win\")\n",
    "    }\n",
    "\n",
    "}\n",
    "Run-HighLow"
   ]
  },
  {
   "cell_type": "code",
   "execution_count": 8,
   "metadata": {
    "dotnet_interactive": {
     "language": "pwsh"
    },
    "polyglot_notebook": {
     "kernelName": "pwsh"
    },
    "vscode": {
     "languageId": "polyglot-notebook"
    }
   },
   "outputs": [
    {
     "name": "stdout",
     "output_type": "stream",
     "text": [
      "6\n",
      "you win\n"
     ]
    }
   ],
   "source": [
    "#in the above example, the function Run-HighLow is doing everything. Functions should have 1 purpose so lets break things up\n",
    "#-----------------------------------------------------------------------#\n",
    "\n",
    "\n",
    "function Set-Answer{\n",
    "    #if we leave $answer as a local variable, Run-HighLow won't be able to see it. Let's make $answer a script level variable instead. \n",
    "    \n",
    "    $script:answer = Get-Random -Minimum 1 -Maximum 10\n",
    "    $answer #output answer for degugging reasons\n",
    "}\n",
    "function Get-Guess{\n",
    "    #we also need $guess to be a script variable so Run-HighLow can see it\n",
    "    $script:guess= Read-Host(\"Guess the number!\")\n",
    "}\n",
    "#improving it using functions\n",
    "function Run-HighLow{\n",
    "    #step 1: generate a random number between 1 and ten\n",
    "    Set-Answer\n",
    "\n",
    "    #step 2: ask the user for their guess\n",
    "    Get-Guess\n",
    "\n",
    "    #step 3: check\n",
    "    if ($script:guess -gt $script:answer){\n",
    "        Write-Host(\"Too high\")\n",
    "    }\n",
    "    elseif ($script:guess -lt $script:answer){\n",
    "        Write-Host(\"Too Low\")\n",
    "    }\n",
    "    else{\n",
    "        Write-Host(\"you win\")\n",
    "    }\n",
    "\n",
    "}\n",
    "Run-HighLow"
   ]
  }
 ],
 "metadata": {
  "kernelspec": {
   "display_name": ".NET (C#)",
   "language": "C#",
   "name": ".net-csharp"
  },
  "language_info": {
   "name": "python"
  },
  "polyglot_notebook": {
   "kernelInfo": {
    "defaultKernelName": "csharp",
    "items": [
     {
      "aliases": [],
      "name": "csharp"
     }
    ]
   }
  }
 },
 "nbformat": 4,
 "nbformat_minor": 2
}
