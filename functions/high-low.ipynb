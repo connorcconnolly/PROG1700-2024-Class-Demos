{
 "cells": [
  {
   "cell_type": "code",
   "execution_count": null,
   "metadata": {
    "dotnet_interactive": {
     "language": "pwsh"
    },
    "polyglot_notebook": {
     "kernelName": "pwsh"
    },
    "vscode": {
     "languageId": "polyglot-notebook"
    }
   },
   "outputs": [],
   "source": [
    "#high low game. this is going to be a an ongoing project for us to apply our learning to\n",
    "\n",
    "#computer generates a random number,\n",
    "#the user is given a certain number of guesses \n",
    "#after each guess the computer will tell the user higher or lower.\n",
    "#the user wins if they guess the number within the alloted number of guesses.\n"
   ]
  },
  {
   "cell_type": "code",
   "execution_count": 5,
   "metadata": {
    "dotnet_interactive": {
     "language": "pwsh"
    },
    "polyglot_notebook": {
     "kernelName": "pwsh"
    },
    "vscode": {
     "languageId": "polyglot-notebook"
    }
   },
   "outputs": [
    {
     "name": "stdout",
     "output_type": "stream",
     "text": [
      "1\n",
      "you win\n"
     ]
    }
   ],
   "source": [
    "#first attempt\n",
    "#step 1: generate a random number between 1 and ten\n",
    "$answer = Get-Random -Minimum 1 -Maximum 10\n",
    "$answer #output answer for degugging reasons\n",
    "\n",
    "#step 2: ask the user for their guess\n",
    "$guess= Read-Host(\"GUess the number!\")\n",
    "\n",
    "#step 3: check\n",
    "if ($guess -gt $answer){\n",
    "    Write-Host(\"Too high\")\n",
    "}\n",
    "elseif ($guess -lt $answer){\n",
    "    Write-Host(\"Too Low\")\n",
    "}\n",
    "else{\n",
    "    Write-Host(\"you win\")\n",
    "}\n",
    "\n",
    "\n"
   ]
  },
  {
   "cell_type": "code",
   "execution_count": 6,
   "metadata": {
    "dotnet_interactive": {
     "language": "pwsh"
    },
    "polyglot_notebook": {
     "kernelName": "pwsh"
    },
    "vscode": {
     "languageId": "polyglot-notebook"
    }
   },
   "outputs": [
    {
     "name": "stdout",
     "output_type": "stream",
     "text": [
      "Too Low\r\n"
     ]
    }
   ],
   "source": [
    "#improving it using functions\n",
    "function Run-HighLow{\n",
    "    #step 1: generate a random number between 1 and ten\n",
    "    $answer = Get-Random -Minimum 1 -Maximum 10\n",
    "    $answer #output answer for degugging reasons\n",
    "\n",
    "    #step 2: ask the user for their guess\n",
    "    $guess= Read-Host(\"GUess the number!\")\n",
    "\n",
    "    #step 3: check\n",
    "    if ($guess -gt $answer){\n",
    "        Write-Host(\"Too high\")\n",
    "    }\n",
    "    elseif ($guess -lt $answer){\n",
    "        Write-Host(\"Too Low\")\n",
    "    }\n",
    "    else{\n",
    "        Write-Host(\"you win\")\n",
    "    }\n",
    "\n",
    "}\n",
    "Run-HighLow"
   ]
  },
  {
   "cell_type": "code",
   "execution_count": 8,
   "metadata": {
    "dotnet_interactive": {
     "language": "pwsh"
    },
    "polyglot_notebook": {
     "kernelName": "pwsh"
    },
    "vscode": {
     "languageId": "polyglot-notebook"
    }
   },
   "outputs": [
    {
     "name": "stdout",
     "output_type": "stream",
     "text": [
      "6\n",
      "you win\n"
     ]
    }
   ],
   "source": [
    "#in the above example, the function Run-HighLow is doing everything. Functions should have 1 purpose so lets break things up\n",
    "#-----------------------------------------------------------------------#\n",
    "\n",
    "\n",
    "function Set-Answer{\n",
    "    #if we leave $answer as a local variable, Run-HighLow won't be able to see it. Let's make $answer a script level variable instead. \n",
    "    \n",
    "    $script:answer = Get-Random -Minimum 1 -Maximum 10\n",
    "    $answer #output answer for degugging reasons\n",
    "}\n",
    "function Get-Guess{\n",
    "    #we also need $guess to be a script variable so Run-HighLow can see it.\n",
    "    $script:guess= Read-Host(\"Guess the number!\")\n",
    "}\n",
    "#improving it using functions\n",
    "function Run-HighLow{\n",
    "    #step 1: generate a random number between 1 and ten\n",
    "    Set-Answer\n",
    "\n",
    "    #step 2: ask the user for their guess\n",
    "    Get-Guess\n",
    "\n",
    "    #step 3: check\n",
    "    if ($script:guess -gt $script:answer){\n",
    "        Write-Host(\"Too high\")\n",
    "    }\n",
    "    elseif ($script:guess -lt $script:answer){\n",
    "        Write-Host(\"Too Low\")\n",
    "    }\n",
    "    else{\n",
    "        Write-Host(\"you win\")\n",
    "    }\n",
    "\n",
    "}\n",
    "Run-HighLow"
   ]
  },
  {
   "cell_type": "markdown",
   "metadata": {},
   "source": [
    "Time to modify our high low game using function parameters and returns\n"
   ]
  },
  {
   "cell_type": "code",
   "execution_count": 16,
   "metadata": {
    "dotnet_interactive": {
     "language": "pwsh"
    },
    "polyglot_notebook": {
     "kernelName": "pwsh"
    },
    "vscode": {
     "languageId": "polyglot-notebook"
    }
   },
   "outputs": [
    {
     "name": "stdout",
     "output_type": "stream",
     "text": [
      "Debugging: Answer is 8\n",
      "Debugging: Guess was 10\n",
      "Too high\n"
     ]
    }
   ],
   "source": [
    "#we no longer need guess and answer to be script variables. instead we return those values from the function. \n",
    "function Set-Answer{\n",
    "    param(\n",
    "        [int]$Min,\n",
    "        [int]$Max\n",
    "    )\n",
    "    $answer = Get-Random -Minimum $min -Maximum $max\n",
    "    Write-Host(\"Debugging: Answer is $answer\" )#output answer for degugging reasons\n",
    "    return $answer\n",
    "}\n",
    "function Get-Guess{\n",
    "    [int]$guess= Read-Host(\"Guess the number!\")\n",
    "    Write-Host(\"Debugging: Guess was $guess\" )#output answer for degugging reasons\n",
    "    return $guess\n",
    "}\n",
    "\n",
    "function Run-HighLow{\n",
    "    #step 1: generate a random number, with a minimum and maximum value\n",
    "    [int]$answer= Set-Answer 1 10\n",
    "\n",
    "    #step 2: ask the user for their guess\n",
    "    [int]$guess=Get-Guess\n",
    "\n",
    "    #step 3: check\n",
    "    if ($guess -gt $answer){\n",
    "        Write-Host(\"Too high\")\n",
    "    }\n",
    "    elseif ($guess -lt $answer){\n",
    "        Write-Host(\"Too Low\")\n",
    "    }\n",
    "    else{\n",
    "        Write-Host(\"you win\")\n",
    "    }\n",
    "\n",
    "}\n",
    "Run-HighLow"
   ]
  },
  {
   "cell_type": "code",
   "execution_count": 18,
   "metadata": {
    "dotnet_interactive": {
     "language": "pwsh"
    },
    "polyglot_notebook": {
     "kernelName": "pwsh"
    },
    "vscode": {
     "languageId": "polyglot-notebook"
    }
   },
   "outputs": [
    {
     "name": "stdout",
     "output_type": "stream",
     "text": [
      "Level: 0\n",
      "Guess the number between and 10\n",
      "Debugging: Answer is 5\n"
     ]
    },
    {
     "ename": "Error",
     "evalue": "Input request cancelled",
     "output_type": "error",
     "traceback": [
      "Input request cancelled"
     ]
    },
    {
     "name": "stdout",
     "output_type": "stream",
     "text": [
      "\u001b[31;1mRead-Host: \u001b[0m\n",
      "\u001b[31;1m\u001b[36;1mLine |\u001b[0m\n",
      "\u001b[31;1m\u001b[36;1m\u001b[36;1m  12 | \u001b[0m     [int]$guess= \u001b[36;1mRead-Host(\"Guess the number!\")\u001b[0m\n",
      "\u001b[31;1m\u001b[36;1m\u001b[36;1m\u001b[0m\u001b[36;1m\u001b[0m\u001b[36;1m     | \u001b[31;1m                  ~~~~~~~~~~~~~~~~~~~~~~~~~~~~~~\u001b[0m\n",
      "\u001b[31;1m\u001b[36;1m\u001b[36;1m\u001b[0m\u001b[36;1m\u001b[0m\u001b[36;1m\u001b[31;1m\u001b[31;1m\u001b[36;1m     | \u001b[31;1mInput request cancelled\u001b[0m\n",
      "Debugging: Guess was 0\n",
      "Too Low\n"
     ]
    },
    {
     "ename": "Error",
     "evalue": "Command cancelled.",
     "output_type": "error",
     "traceback": [
      "Command cancelled."
     ]
    }
   ],
   "source": [
    "#we no longer need guess and answer to be script variables. instead we return those values from the function. \n",
    "function Set-Answer{\n",
    "    param(\n",
    "        [int]$Min,\n",
    "        [int]$Max\n",
    "    )\n",
    "    $answer = Get-Random -Minimum $min -Maximum $max\n",
    "    Write-Host(\"Debugging: Answer is $answer\" )#output answer for degugging reasons\n",
    "    return $answer\n",
    "}\n",
    "function Get-Guess{\n",
    "    [int]$guess= Read-Host(\"Guess the number!\")\n",
    "    Write-Host(\"Debugging: Guess was $guess\" )#output answer for degugging reasons\n",
    "    return $guess\n",
    "}\n",
    "\n",
    "function Run-HighLow{\n",
    "    param(\n",
    "        [int]$level\n",
    "    )\n",
    "    $levels=@(\n",
    "        @{Tries=5; Minumum=1; Maximum=10},\n",
    "        @{Tries=7; Minumum=1; Maximum=100},\n",
    "        @{Tries=10; Minumum=1; Maximum=1000}\n",
    "    )\n",
    "    $tries=0\n",
    "    $current=$levels[$level]\n",
    "    Write-Host(\"Guess the number between{0} and {1}\" -f $current.Minimum, $current.Maximum)\n",
    "    #step 1: generate a random number, with a minimum and maximum value\n",
    "    [int]$answer= Set-Answer $current.Minimum $current.Maximum\n",
    "\n",
    "    #step 2: ask the user for their guess\n",
    "    do{\n",
    "        [int]$guess=Get-Guess\n",
    "\n",
    "        #step 3: check\n",
    "        if ($guess -gt $answer){\n",
    "            Write-Host(\"Too high\")\n",
    "            $tries++\n",
    "        }\n",
    "        elseif ($guess -lt $answer){\n",
    "            Write-Host(\"Too Low\")\n",
    "            $tries++\n",
    "        }\n",
    "        else{\n",
    "            Write-Host(\"you win\")\n",
    "        }\n",
    "    }until($tries -ge $current.Tries -or $guess -eq $answer)\n",
    "    return ($guess -eq $answer), $answer\n",
    "\n",
    "}\n",
    "#####\n",
    "#GAME LOGIC\n",
    "####\n",
    "$level=0\n",
    "$attempt=0\n",
    "do{\n",
    "    Write-Host(\"Level: $level\")\n",
    "    $win, $secret_number=Run-HighLow -level $level\n",
    "    if ($win -and $level -eq 4){\n",
    "        Write-Host(\"Achievement Get! You Win!\")\n",
    "        break\n",
    "    }\n",
    "    elseif($win){\n",
    "        Write-Host(\"Correct! Level $level Passed.\" )\n",
    "        $level++\n",
    "        $attempt=0\n",
    "    }\n",
    "    else{\n",
    "        Write-Host(\"You lost! The number was $secret_number.\")\n",
    "        Write-Host(\"Made it to Level: $level\")\n",
    "    }\n",
    "\n",
    "\n",
    "    $again=Read-Host(\"Would you like to play again? Y/N\")\n",
    "}while( $again -eq 'Y')"
   ]
  }
 ],
 "metadata": {
  "kernelspec": {
   "display_name": ".NET (C#)",
   "language": "C#",
   "name": ".net-csharp"
  },
  "language_info": {
   "name": "python"
  },
  "polyglot_notebook": {
   "kernelInfo": {
    "defaultKernelName": "csharp",
    "items": [
     {
      "aliases": [],
      "name": "csharp"
     }
    ]
   }
  }
 },
 "nbformat": 4,
 "nbformat_minor": 2
}
