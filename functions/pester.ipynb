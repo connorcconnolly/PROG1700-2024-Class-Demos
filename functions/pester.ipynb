{
 "cells": [
  {
   "cell_type": "code",
   "execution_count": null,
   "metadata": {
    "dotnet_interactive": {
     "language": "csharp"
    },
    "polyglot_notebook": {
     "kernelName": "csharp"
    },
    "vscode": {
     "languageId": "polyglot-notebook"
    }
   },
   "outputs": [],
   "source": []
  },
  {
   "cell_type": "markdown",
   "metadata": {},
   "source": [
    "### Unit Testing\n",
    "\n",
    "Unit testing is a means of automating the testing process. \n",
    "\n",
    "part of a larger design philosophy called Test Driven Development (TDD)\n",
    "\n",
    "Pester is a framework for unit testing powershell.\n",
    "\n",
    "its a powershell library/module\n",
    "\n",
    "we gotta install it to use it\n",
    "\n"
   ]
  },
  {
   "cell_type": "markdown",
   "metadata": {},
   "source": [
    "Installing\n",
    "\n",
    "To see current Version: \"\"\"Import-Module -Name Pester -Passthru\"\"\"\n",
    "\n",
    "to install: \"\"\"Install-Module -Name Pester -Force -SkipPublisherCheck\"\"\""
   ]
  },
  {
   "cell_type": "markdown",
   "metadata": {},
   "source": [
    "###Assertions\n",
    "Assertions are created from expectations around functionality. \n",
    "\n",
    "    -I assert that this function adds two numbers together"
   ]
  },
  {
   "cell_type": "code",
   "execution_count": 4,
   "metadata": {
    "dotnet_interactive": {
     "language": "pwsh"
    },
    "polyglot_notebook": {
     "kernelName": "pwsh"
    },
    "vscode": {
     "languageId": "polyglot-notebook"
    }
   },
   "outputs": [
    {
     "name": "stdout",
     "output_type": "stream",
     "text": [
      "\u001b[31;1mInvalidResult: \u001b[31;1mExpected 1, but got 3.\u001b[0m\r\n"
     ]
    },
    {
     "ename": "Error",
     "evalue": "Command failed: SubmitCode: #simple test ...",
     "output_type": "error",
     "traceback": [
      "Command failed: SubmitCode: #simple test ..."
     ]
    }
   ],
   "source": [
    "#simple test, pure powershell\n",
    "$number=3\n",
    "$number | Should -Be 1\n",
    "Write-Host \"Success\""
   ]
  },
  {
   "cell_type": "code",
   "execution_count": 9,
   "metadata": {
    "dotnet_interactive": {
     "language": "pwsh"
    },
    "polyglot_notebook": {
     "kernelName": "pwsh"
    },
    "vscode": {
     "languageId": "polyglot-notebook"
    }
   },
   "outputs": [
    {
     "name": "stdout",
     "output_type": "stream",
     "text": [
      "Success\r\n"
     ]
    }
   ],
   "source": [
    "$integer=12345\n",
    "\n",
    "$integer | Should -Be 12345\n",
    "$integer | Should -BeGreaterThan 1000\n",
    "$integer | Should -BeLessOrEqual 100001\n",
    "$integer | Should -BeOfType [int]\n",
    "\n",
    "Test-Path Variable:integer | Should -BeTrue\n",
    "Write-Host \"Success\""
   ]
  },
  {
   "cell_type": "code",
   "execution_count": 11,
   "metadata": {
    "dotnet_interactive": {
     "language": "pwsh"
    },
    "polyglot_notebook": {
     "kernelName": "pwsh"
    },
    "vscode": {
     "languageId": "polyglot-notebook"
    }
   },
   "outputs": [
    {
     "name": "stdout",
     "output_type": "stream",
     "text": [
      "\u001b[92mSuccess\u001b[0m\r\n"
     ]
    }
   ],
   "source": [
    "#string tests\n",
    "$str=\"Hello\"\n",
    "Test-Path Variable:str | Should -BeTrue\n",
    "$str | Should -Be \"hELLO\"\n",
    "$str -ceq \"Hello\" | Should -BeTrue\n",
    "$str | Should -BeLike \"H*\"\n",
    "$str | Should -not -BeNullOrEmpty\n",
    "Write-Host \"Success\" -ForegroundColor Green\n"
   ]
  }
 ],
 "metadata": {
  "kernelspec": {
   "display_name": ".NET (C#)",
   "language": "C#",
   "name": ".net-csharp"
  },
  "language_info": {
   "name": "python"
  },
  "polyglot_notebook": {
   "kernelInfo": {
    "defaultKernelName": "csharp",
    "items": [
     {
      "aliases": [],
      "name": "csharp"
     }
    ]
   }
  }
 },
 "nbformat": 4,
 "nbformat_minor": 2
}
