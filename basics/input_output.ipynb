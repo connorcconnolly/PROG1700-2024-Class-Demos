{
 "cells": [
  {
   "cell_type": "code",
   "execution_count": null,
   "metadata": {
    "dotnet_interactive": {
     "language": "pwsh"
    },
    "polyglot_notebook": {
     "kernelName": "pwsh"
    },
    "vscode": {
     "languageId": "polyglot-notebook"
    }
   },
   "outputs": [],
   "source": [
    "#sample PowerShell cmdlets\n",
    "#Get-Alias - don't run this one it takes ages\n",
    "#Get-ChildItem\n",
    "#Get-Process\n",
    "#Get-Services"
   ]
  },
  {
   "cell_type": "code",
   "execution_count": 2,
   "metadata": {
    "dotnet_interactive": {
     "language": "pwsh"
    },
    "polyglot_notebook": {
     "kernelName": "pwsh"
    },
    "vscode": {
     "languageId": "polyglot-notebook"
    }
   },
   "outputs": [
    {
     "name": "stdout",
     "output_type": "stream",
     "text": [
      "\n",
      "\u001b[32;1mMajor \u001b[0m\u001b[32;1m Minor \u001b[0m\u001b[32;1m Patch \u001b[0m\u001b[32;1m PreReleaseLabel\u001b[0m\u001b[32;1m BuildLabel\u001b[0m\n",
      "\u001b[32;1m----- \u001b[0m \u001b[32;1m----- \u001b[0m \u001b[32;1m----- \u001b[0m \u001b[32;1m---------------\u001b[0m \u001b[32;1m----------\u001b[0m\n",
      "7      4      1                      \n",
      "C:\\Users\\W0509557\n",
      "\n"
     ]
    }
   ],
   "source": [
    "#automatic variable\n",
    "$PSVersionTable.PSVersion\n",
    "$HOME"
   ]
  },
  {
   "cell_type": "code",
   "execution_count": 4,
   "metadata": {
    "dotnet_interactive": {
     "language": "pwsh"
    },
    "polyglot_notebook": {
     "kernelName": "pwsh"
    },
    "vscode": {
     "languageId": "polyglot-notebook"
    }
   },
   "outputs": [
    {
     "name": "stdout",
     "output_type": "stream",
     "text": [
      "W0509557\n",
      "C:\\Users\\W0509557\n"
     ]
    }
   ],
   "source": [
    "#environment variables\n",
    "$env:USERNAME\n",
    "$env:USERPROFILE\n",
    "#Get-ChildItem env:"
   ]
  },
  {
   "cell_type": "code",
   "execution_count": 12,
   "metadata": {
    "dotnet_interactive": {
     "language": "pwsh"
    },
    "polyglot_notebook": {
     "kernelName": "pwsh"
    },
    "vscode": {
     "languageId": "polyglot-notebook"
    }
   },
   "outputs": [
    {
     "name": "stdout",
     "output_type": "stream",
     "text": [
      "apples\n",
      "grapes\n",
      "pears\n",
      "Second fruit in list:  grapes\n",
      "Converting Number Formats:\n",
      "0XABCD = 0XABCD\n",
      "0XABCD = 43981\n",
      "0b1001 = 9\n"
     ]
    }
   ],
   "source": [
    "$fruit= \"apples\",\"grapes\",\"pears\"\n",
    "$fruit\n",
    "\n",
    "Write-Host \"Second fruit in list: \" $fruit[1]\n",
    "#automatically recognizes hex and binary values using the prefixes 0X and 0b\n",
    "$hexValue=0XABCD\n",
    "$binaryValue= 0b1001\n",
    "Write-Host \"Converting Number Formats:\"\n",
    "Write-Host \"0XABCD =\" 0XABCD\n",
    "Write-Host \"0XABCD = $(0XABCD)\"\n",
    "Write-Host \"0b1001 = $(0b1001)\""
   ]
  },
  {
   "cell_type": "code",
   "execution_count": 7,
   "metadata": {
    "dotnet_interactive": {
     "language": "pwsh"
    },
    "polyglot_notebook": {
     "kernelName": "pwsh"
    },
    "vscode": {
     "languageId": "polyglot-notebook"
    }
   },
   "outputs": [
    {
     "name": "stdout",
     "output_type": "stream",
     "text": [
      "Host:  172LAB-44432\n",
      "User:  W0509557\n",
      "Home:  C:\\Users\\W0509557\n",
      "Path:  C:\\Program Files (x86)\\VMware\\VMware Workstation\\bin\\;C:\\WINDOWS\\system32;C:\\WINDOWS;C:\\WINDOWS\\System32\\Wbem;C:\\WINDOWS\\System32\\WindowsPowerShell\\v1.0\\;C:\\WINDOWS\\System32\\OpenSSH\\;C:\\Program Files\\dotnet\\;C:\\Program Files\\Microsoft VS Code\\bin;C:\\Program Files\\PuTTY\\;C:\\Program Files\\PowerShell\\7\\;C:\\Program Files\\GitHub CLI\\;C:\\Program Files\\nodejs\\;C:\\Users\\W0509557\\AppData\\Local\\Programs\\Python\\Python310\\Scripts\\;C:\\Users\\W0509557\\AppData\\Local\\Programs\\Python\\Python310\\;C:\\Users\\W0509557\\AppData\\Local\\Microsoft\\WindowsApps;C:\\Users\\W0509557\\.dotnet\\tools;C:\\Users\\W0509557\\AppData\\Local\\Programs\\Git\\cmd;C:\\Users\\W0509557\\AppData\\Roaming\\npm;%HOME%\\.dotnet\\tools;%LOCALAPPDATA%\\Programs\\Microsoft VS Code\\bin;C:\\Program Files\\Git\\bin\n"
     ]
    }
   ],
   "source": [
    "#a script that outputs important info about your computer:\n",
    "Write-Host \"Host: \" $env:COMPUTERNAME\n",
    "Write-Host \"User: \" $env:USERNAME\n",
    "Write-Host \"Home: \" $HOME\n",
    "Write-Host \"Path: \" $env:PATH"
   ]
  },
  {
   "cell_type": "code",
   "execution_count": 13,
   "metadata": {
    "dotnet_interactive": {
     "language": "pwsh"
    },
    "polyglot_notebook": {
     "kernelName": "pwsh"
    },
    "vscode": {
     "languageId": "polyglot-notebook"
    }
   },
   "outputs": [
    {
     "name": "stdout",
     "output_type": "stream",
     "text": [
      "C:\\Users\\W0509557\\OneDrive - Nova Scotia Community College\\Documents\\PowerShell\\Microsoft.dotnet-interactive_profile.ps1\r\n"
     ]
    }
   ],
   "source": [
    "#adds a greeting everytime i open a PowerShell window\n",
    "$PROFILE"
   ]
  },
  {
   "cell_type": "code",
   "execution_count": 14,
   "metadata": {
    "dotnet_interactive": {
     "language": "pwsh"
    },
    "polyglot_notebook": {
     "kernelName": "pwsh"
    },
    "vscode": {
     "languageId": "polyglot-notebook"
    }
   },
   "outputs": [
    {
     "name": "stdout",
     "output_type": "stream",
     "text": [
      "Welcome, Connor Bo.\r\n"
     ]
    }
   ],
   "source": [
    "#User Input\n",
    "$firstname=Read-Host \"Enter your first name :\"\n",
    "$lastname=Read-Host \"Enter your last name :\"\n",
    "\n",
    "Write-Host \"Welcome, $firstname $lastname.\""
   ]
  }
 ],
 "metadata": {
  "kernelspec": {
   "display_name": ".NET (C#)",
   "language": "C#",
   "name": ".net-csharp"
  },
  "language_info": {
   "name": "csharp"
  },
  "polyglot_notebook": {
   "kernelInfo": {
    "defaultKernelName": "csharp",
    "items": [
     {
      "aliases": [],
      "name": "csharp"
     }
    ]
   }
  }
 },
 "nbformat": 4,
 "nbformat_minor": 2
}
