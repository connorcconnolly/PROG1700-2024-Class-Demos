{
 "cells": [
  {
   "cell_type": "markdown",
   "metadata": {},
   "source": [
    "#Strings, Datatypes and Expresions\n",
    "\n",
    "Examples of creating and using strings, what data types are\n",
    "and mathematical expressions"
   ]
  },
  {
   "cell_type": "code",
   "execution_count": 7,
   "metadata": {
    "dotnet_interactive": {
     "language": "pwsh"
    },
    "polyglot_notebook": {
     "kernelName": "pwsh"
    },
    "vscode": {
     "languageId": "polyglot-notebook"
    }
   },
   "outputs": [
    {
     "name": "stdout",
     "output_type": "stream",
     "text": [
      "Name: John Smith\n",
      "Name: John Smith\n",
      "Name: John Smith, Address: 123 Somewhere St.\n"
     ]
    }
   ],
   "source": [
    "$name = \"John Smith\"\n",
    "$address = \"123 Somewhere St.\"\n",
    "Write-Host \"Name:\"$name #simple output\n",
    "Write-Host \"Name: $name\" #variable expansion\n",
    "Write-Host (\"Name: {0}, Address: {1}\" -f $name, $address)#formatted string"
   ]
  },
  {
   "cell_type": "code",
   "execution_count": 12,
   "metadata": {
    "dotnet_interactive": {
     "language": "pwsh"
    },
    "polyglot_notebook": {
     "kernelName": "pwsh"
    },
    "vscode": {
     "languageId": "polyglot-notebook"
    }
   },
   "outputs": [
    {
     "name": "stdout",
     "output_type": "stream",
     "text": [
      "5685 Leeds St.\n",
      "5685 Leeds St.\n",
      "5685 Leeds St.\n"
     ]
    }
   ],
   "source": [
    "#combining strings\n",
    "$streetNumber=\"5685\"\n",
    "$streetName=\"Leeds St.\"\n",
    "#concatenation, not the preffered way\n",
    "$streetAddress=$streetNumber + \" \" + $streetName \n",
    "Write-Host $streetAddress\n",
    "\n",
    "#formatted string\n",
    "$streetAddress2=\"{0} {1}\" -f $streetNumber,$streetName \n",
    "Write-Host $streetAddress2\n",
    "\n",
    "#Variable Expansion\n",
    "$streetAddress3 = \"$streetNumber $streetName\"\n",
    "Write-Host $streetAddress3"
   ]
  },
  {
   "cell_type": "code",
   "execution_count": 18,
   "metadata": {
    "dotnet_interactive": {
     "language": "pwsh"
    },
    "polyglot_notebook": {
     "kernelName": "pwsh"
    },
    "vscode": {
     "languageId": "polyglot-notebook"
    }
   },
   "outputs": [
    {
     "name": "stdout",
     "output_type": "stream",
     "text": [
      "Hello World!\n",
      "Hello World!\n",
      "Goodbye, World!\n"
     ]
    }
   ],
   "source": [
    "#string concatenation\n",
    "$greeting = \"Hello \"+\"World!\"\n",
    "Write-Host $greeting\n",
    "Write-Host (\"Hello \"+\"World!\")\n",
    "\n",
    "# plus equals\n",
    "$dismissal=\"Goodbye\"\n",
    "$dismissal+=\", World!\"\n",
    "Write-Host $dismissal"
   ]
  },
  {
   "cell_type": "code",
   "execution_count": 21,
   "metadata": {
    "dotnet_interactive": {
     "language": "pwsh"
    },
    "polyglot_notebook": {
     "kernelName": "pwsh"
    },
    "vscode": {
     "languageId": "polyglot-notebook"
    }
   },
   "outputs": [
    {
     "name": "stdout",
     "output_type": "stream",
     "text": [
      "Price: 123.45\n",
      "\u001b[31;1mInvalidArgument: \u001b[0m\n",
      "\u001b[31;1m\u001b[36;1mLine |\u001b[0m\n",
      "\u001b[31;1m\u001b[36;1m\u001b[36;1m   7 | \u001b[0m \u001b[36;1m$address= 5685 + \"Leeds St\"\u001b[0m\n",
      "\u001b[31;1m\u001b[36;1m\u001b[36;1m\u001b[0m\u001b[36;1m\u001b[0m\u001b[36;1m     | \u001b[31;1m ~~~~~~~~~~~~~~~~~~~~~~~~~~~\u001b[0m\n",
      "\u001b[31;1m\u001b[36;1m\u001b[36;1m\u001b[0m\u001b[36;1m\u001b[0m\u001b[36;1m\u001b[31;1m\u001b[31;1m\u001b[36;1m     | \u001b[31;1mCannot convert value \"Leeds St\" to type \"System.Int32\". Error: \"The input string 'Leeds St' was not in a correct format.\"\u001b[0m\n",
      "123 Somewhere St.\n"
     ]
    },
    {
     "ename": "Error",
     "evalue": "Command failed: SubmitCode: #issues with concatenation ...",
     "output_type": "error",
     "traceback": [
      "Command failed: SubmitCode: #issues with concatenation ..."
     ]
    }
   ],
   "source": [
    "#issues with concatenation\n",
    "\n",
    "#can combine strings with numbers\n",
    "$price = \"Price: \"+123.45\n",
    "Write-Host $price\n",
    "\n",
    "$address= 5685 + \"Leeds St\"\n",
    "Write-Host $address\n",
    "\n",
    "#numbers can easily be casted as strings, Powershell will attempt to convert strings to ints when concated to one"
   ]
  },
  {
   "cell_type": "code",
   "execution_count": 24,
   "metadata": {
    "dotnet_interactive": {
     "language": "pwsh"
    },
    "polyglot_notebook": {
     "kernelName": "pwsh"
    },
    "vscode": {
     "languageId": "polyglot-notebook"
    }
   },
   "outputs": [
    {
     "name": "stdout",
     "output_type": "stream",
     "text": [
      "12345 System.Int32\n",
      "12345 System.String\n"
     ]
    }
   ],
   "source": [
    "#converting between datatypes\n",
    "$number = \"12345\"\n",
    "#reassigning\n",
    "$number = 12345\n",
    "Write-Host $number $number.GetType()\n",
    "#Casting. [string], [int]\n",
    "$number=[string]$number\n",
    "Write-Host $number $number.GetType()"
   ]
  },
  {
   "cell_type": "code",
   "execution_count": 37,
   "metadata": {
    "dotnet_interactive": {
     "language": "pwsh"
    },
    "polyglot_notebook": {
     "kernelName": "pwsh"
    },
    "vscode": {
     "languageId": "polyglot-notebook"
    }
   },
   "outputs": [
    {
     "name": "stdout",
     "output_type": "stream",
     "text": [
      "Enter 3 integers one at a time.\n",
      "a=6.5\n",
      "b=7.5\n",
      "c=8.5\n",
      "Average = 7.5\n"
     ]
    }
   ],
   "source": [
    "#a script that calculates the average of three numbers inputted by the user\n",
    "Write-Host \"Enter 3 integers one at a time.\"\n",
    "$a=[double](Read-Host \"a\")\n",
    "[double]$b=Read-Host \"b\"\n",
    "$c=Read-Host \"c\"\n",
    "Write-Host (\"a={0}`nb={1}`nc={2}\" -f $a,$b,$c)\n",
    "$avg=($a + $b + [double]$c)/3\n",
    "Write-Host (\"Average = {0}\" -f $avg)"
   ]
  },
  {
   "cell_type": "code",
   "execution_count": 41,
   "metadata": {
    "dotnet_interactive": {
     "language": "pwsh"
    },
    "polyglot_notebook": {
     "kernelName": "pwsh"
    },
    "vscode": {
     "languageId": "polyglot-notebook"
    }
   },
   "outputs": [
    {
     "name": "stdout",
     "output_type": "stream",
     "text": [
      "1\n",
      "2\n",
      "3\n",
      "12\n",
      "2\n",
      "1\n"
     ]
    }
   ],
   "source": [
    "#other math operators\n",
    "Write-Host (5%2)\n",
    "1+1\n",
    "5-2\n",
    "4*3\n",
    "10/5\n",
    "5%2 #modulus division, gives remainder\n"
   ]
  },
  {
   "cell_type": "code",
   "execution_count": 47,
   "metadata": {
    "dotnet_interactive": {
     "language": "pwsh"
    },
    "polyglot_notebook": {
     "kernelName": "pwsh"
    },
    "vscode": {
     "languageId": "polyglot-notebook"
    }
   },
   "outputs": [
    {
     "name": "stdout",
     "output_type": "stream",
     "text": [
      "9\n",
      "12\n",
      "3.14159265358979\n",
      "6.35\n",
      "6\n",
      "7\n"
     ]
    }
   ],
   "source": [
    "#Using a .NET method\n",
    "#documentation shows it as Math.Pow(x,y)\n",
    "[Math]::Pow(3,2)\n",
    "[Math]::Sqrt(144)\n",
    "[Math]::PI\n",
    "[Math]::Round(6.3456,2)\n",
    "[Math]::Floor(6.8456) #always rounds down\n",
    "[Math]::Ceiling(6.3456)#always rounds up"
   ]
  },
  {
   "cell_type": "code",
   "execution_count": 51,
   "metadata": {
    "dotnet_interactive": {
     "language": "pwsh"
    },
    "polyglot_notebook": {
     "kernelName": "pwsh"
    },
    "vscode": {
     "languageId": "polyglot-notebook"
    }
   },
   "outputs": [
    {
     "name": "stdout",
     "output_type": "stream",
     "text": [
      "\u001b[31;1mGet-WmiObject: \u001b[31;1mThe term 'Get-WmiObject' is not recognized as a name of a cmdlet, function, script file, or executable program.\u001b[0m\n",
      "\u001b[31;1m\u001b[31;1mCheck the spelling of the name, or if a path was included, verify that the path is correct and try again.\u001b[0m\n",
      "\n",
      "\u001b[32;1mName                          \u001b[0m\u001b[32;1m Value\u001b[0m\n",
      "\u001b[32;1m----                          \u001b[0m \u001b[32;1m-----\u001b[0m\n",
      "Expression                     \"{0:N} GB\" -f ($_.Capacity/1GB)\n",
      "Label                          Capacity\n",
      "Expression                     \"{0:P}\" -f ($_.FreeSpace / $_.Capacity)\n",
      "Label                          PercentFree\n",
      "\n"
     ]
    },
    {
     "ename": "Error",
     "evalue": "Command failed: SubmitCode: Get-WmiObject win32_volume | Format-Table DriveLet ...",
     "output_type": "error",
     "traceback": [
      "Command failed: SubmitCode: Get-WmiObject win32_volume | Format-Table DriveLet ..."
     ]
    }
   ],
   "source": [
    "Get-WmiObject win32_volume | Format-Table DriveLetter,\n",
    "@{Label=\"FreeSpace\";Expression={\"{0:N} GB\" -f ($_.FreeSpace/1GB)}}\n",
    "@{Label=\"Capacity\";Expression={\"{0:N} GB\" -f ($_.Capacity/1GB)}}\n",
    "@{Label=\"PercentFree\";Expression={\"{0:P}\" -f ($_.FreeSpace / $_.Capacity)}}"
   ]
  }
 ],
 "metadata": {
  "kernelspec": {
   "display_name": ".NET (C#)",
   "language": "C#",
   "name": ".net-csharp"
  },
  "language_info": {
   "name": "csharp"
  },
  "polyglot_notebook": {
   "kernelInfo": {
    "defaultKernelName": "csharp",
    "items": [
     {
      "aliases": [],
      "name": "csharp"
     }
    ]
   }
  }
 },
 "nbformat": 4,
 "nbformat_minor": 2
}
