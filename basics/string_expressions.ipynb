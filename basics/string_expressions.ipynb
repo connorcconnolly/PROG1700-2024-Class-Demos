{
 "cells": [
  {
   "cell_type": "markdown",
   "metadata": {},
   "source": [
    "#Strings, Datatypes and Expresions\n",
    "\n",
    "Examples of creating and using strings, what data types are\n",
    "and mathematical expressions"
   ]
  },
  {
   "cell_type": "code",
   "execution_count": 7,
   "metadata": {
    "dotnet_interactive": {
     "language": "pwsh"
    },
    "polyglot_notebook": {
     "kernelName": "pwsh"
    },
    "vscode": {
     "languageId": "polyglot-notebook"
    }
   },
   "outputs": [
    {
     "name": "stdout",
     "output_type": "stream",
     "text": [
      "Name: John Smith\n",
      "Name: John Smith\n",
      "Name: John Smith, Address: 123 Somewhere St.\n"
     ]
    }
   ],
   "source": [
    "$name = \"John Smith\"\n",
    "$address = \"123 Somewhere St.\"\n",
    "Write-Host \"Name:\"$name #simple output\n",
    "Write-Host \"Name: $name\" #variable expansion\n",
    "Write-Host (\"Name: {0}, Address: {1}\" -f $name, $address)#formatted string"
   ]
  },
  {
   "cell_type": "code",
   "execution_count": 12,
   "metadata": {
    "dotnet_interactive": {
     "language": "pwsh"
    },
    "polyglot_notebook": {
     "kernelName": "pwsh"
    },
    "vscode": {
     "languageId": "polyglot-notebook"
    }
   },
   "outputs": [
    {
     "name": "stdout",
     "output_type": "stream",
     "text": [
      "5685 Leeds St.\n",
      "5685 Leeds St.\n",
      "5685 Leeds St.\n"
     ]
    }
   ],
   "source": [
    "#combining strings\n",
    "$streetNumber=\"5685\"\n",
    "$streetName=\"Leeds St.\"\n",
    "#concatenation, not the preffered way\n",
    "$streetAddress=$streetNumber + \" \" + $streetName \n",
    "Write-Host $streetAddress\n",
    "\n",
    "#formatted string\n",
    "$streetAddress2=\"{0} {1}\" -f $streetNumber,$streetName \n",
    "Write-Host $streetAddress2\n",
    "\n",
    "#Variable Expansion\n",
    "$streetAddress3 = \"$streetNumber $streetName\"\n",
    "Write-Host $streetAddress3"
   ]
  },
  {
   "cell_type": "code",
   "execution_count": 18,
   "metadata": {
    "dotnet_interactive": {
     "language": "pwsh"
    },
    "polyglot_notebook": {
     "kernelName": "pwsh"
    },
    "vscode": {
     "languageId": "polyglot-notebook"
    }
   },
   "outputs": [
    {
     "name": "stdout",
     "output_type": "stream",
     "text": [
      "Hello World!\n",
      "Hello World!\n",
      "Goodbye, World!\n"
     ]
    }
   ],
   "source": [
    "#string concatenation\n",
    "$greeting = \"Hello \"+\"World!\"\n",
    "Write-Host $greeting\n",
    "Write-Host (\"Hello \"+\"World!\")\n",
    "\n",
    "# plus equals\n",
    "$dismissal=\"Goodbye\"\n",
    "$dismissal+=\", World!\"\n",
    "Write-Host $dismissal"
   ]
  },
  {
   "cell_type": "code",
   "execution_count": null,
   "metadata": {
    "dotnet_interactive": {
     "language": "pwsh"
    },
    "polyglot_notebook": {
     "kernelName": "pwsh"
    },
    "vscode": {
     "languageId": "polyglot-notebook"
    }
   },
   "outputs": [],
   "source": [
    "#issues with concatenation\n",
    "\n",
    "#can combine strings with numbers\n",
    "$price = \"Price: \"+123.45\n",
    "Write-Host $price\n",
    "\n",
    "#$address= 5685 + \"Leeds St\"\n",
    "#Write-Host $address\n",
    "\n",
    "#numbers can easily be casted as strings, Powershell will attempt to convert strings to ints when concated to one"
   ]
  },
  {
   "cell_type": "code",
   "execution_count": 24,
   "metadata": {
    "dotnet_interactive": {
     "language": "pwsh"
    },
    "polyglot_notebook": {
     "kernelName": "pwsh"
    },
    "vscode": {
     "languageId": "polyglot-notebook"
    }
   },
   "outputs": [
    {
     "name": "stdout",
     "output_type": "stream",
     "text": [
      "12345 System.Int32\n",
      "12345 System.String\n"
     ]
    }
   ],
   "source": [
    "#converting between datatypes\n",
    "$number = \"12345\"\n",
    "#reassigning\n",
    "$number = 12345\n",
    "Write-Host $number $number.GetType()\n",
    "#Casting. [string], [int]\n",
    "$number=[string]$number\n",
    "Write-Host $number $number.GetType()"
   ]
  },
  {
   "cell_type": "code",
   "execution_count": 37,
   "metadata": {
    "dotnet_interactive": {
     "language": "pwsh"
    },
    "polyglot_notebook": {
     "kernelName": "pwsh"
    },
    "vscode": {
     "languageId": "polyglot-notebook"
    }
   },
   "outputs": [
    {
     "name": "stdout",
     "output_type": "stream",
     "text": [
      "Enter 3 integers one at a time.\n",
      "a=6.5\n",
      "b=7.5\n",
      "c=8.5\n",
      "Average = 7.5\n"
     ]
    }
   ],
   "source": [
    "#a script that calculates the average of three numbers inputted by the user\n",
    "Write-Host \"Enter 3 integers one at a time.\"\n",
    "$a=[double](Read-Host \"a\")\n",
    "[double]$b=Read-Host \"b\"\n",
    "$c=Read-Host \"c\"\n",
    "Write-Host (\"a={0}`nb={1}`nc={2}\" -f $a,$b,$c)\n",
    "$avg=($a + $b + [double]$c)/3\n",
    "Write-Host (\"Average = {0}\" -f $avg)"
   ]
  },
  {
   "cell_type": "code",
   "execution_count": 41,
   "metadata": {
    "dotnet_interactive": {
     "language": "pwsh"
    },
    "polyglot_notebook": {
     "kernelName": "pwsh"
    },
    "vscode": {
     "languageId": "polyglot-notebook"
    }
   },
   "outputs": [
    {
     "name": "stdout",
     "output_type": "stream",
     "text": [
      "1\n",
      "2\n",
      "3\n",
      "12\n",
      "2\n",
      "1\n"
     ]
    }
   ],
   "source": [
    "#other math operators\n",
    "Write-Host (5%2)\n",
    "1+1\n",
    "5-2\n",
    "4*3\n",
    "10/5\n",
    "5%2 #modulus division, gives remainder\n"
   ]
  },
  {
   "cell_type": "code",
   "execution_count": 47,
   "metadata": {
    "dotnet_interactive": {
     "language": "pwsh"
    },
    "polyglot_notebook": {
     "kernelName": "pwsh"
    },
    "vscode": {
     "languageId": "polyglot-notebook"
    }
   },
   "outputs": [
    {
     "name": "stdout",
     "output_type": "stream",
     "text": [
      "9\n",
      "12\n",
      "3.14159265358979\n",
      "6.35\n",
      "6\n",
      "7\n"
     ]
    }
   ],
   "source": [
    "#Using a .NET method\n",
    "#documentation shows it as Math.Pow(x,y)\n",
    "[Math]::Pow(3,2)\n",
    "[Math]::Sqrt(144)\n",
    "[Math]::PI\n",
    "[Math]::Round(6.3456,2)\n",
    "[Math]::Floor(6.8456) #always rounds down\n",
    "[Math]::Ceiling(6.3456)#always rounds up"
   ]
  },
  {
   "cell_type": "code",
   "execution_count": null,
   "metadata": {
    "dotnet_interactive": {
     "language": "pwsh"
    },
    "polyglot_notebook": {
     "kernelName": "pwsh"
    },
    "vscode": {
     "languageId": "polyglot-notebook"
    }
   },
   "outputs": [],
   "source": [
    "Get-WmiObject win32_volume | Format-Table DriveLetter,\n",
    "@{Label=\"FreeSpace\";Expression={\"{0:N} GB\" -f ($_.FreeSpace/1GB)}}\n",
    "@{Label=\"Capacity\";Expression={\"{0:N} GB\" -f ($_.Capacity/1GB)}}\n",
    "@{Label=\"PercentFree\";Expression={\"{0:P}\" -f ($_.FreeSpace / $_.Capacity)}}"
   ]
  },
  {
   "cell_type": "code",
   "execution_count": 6,
   "metadata": {
    "dotnet_interactive": {
     "language": "pwsh"
    },
    "polyglot_notebook": {
     "kernelName": "pwsh"
    },
    "vscode": {
     "languageId": "polyglot-notebook"
    }
   },
   "outputs": [
    {
     "name": "stdout",
     "output_type": "stream",
     "text": [
      "\n",
      "\u001b[32;1mDeviceId\u001b[0m\u001b[32;1m MediaType\u001b[0m\u001b[32;1m    Size\u001b[0m\u001b[32;1m FreeSpace\u001b[0m\n",
      "\u001b[32;1m--------\u001b[0m \u001b[32;1m---------\u001b[0m \u001b[32;1m   ----\u001b[0m \u001b[32;1m---------\u001b[0m\n",
      "C:              12 235.480   131.200\n",
      "D:              11   0.000     0.000\n",
      "\n"
     ]
    }
   ],
   "source": [
    "Get-CimInstance -Class win32_logicaldisk | Format-Table DeviceId, MediaType, @{n=\"Size\";e={[math]::Round($_.Size/1GB,2)}},@{n=\"FreeSpace\";e={[math]::Round($_.FreeSpace/1GB,2)}}\n",
    "Get-CimInstance -Class win32_volume -Property "
   ]
  }
 ],
 "metadata": {
  "kernelspec": {
   "display_name": ".NET (C#)",
   "language": "C#",
   "name": ".net-csharp"
  },
  "language_info": {
   "name": "csharp"
  },
  "polyglot_notebook": {
   "kernelInfo": {
    "defaultKernelName": "csharp",
    "items": [
     {
      "aliases": [],
      "name": "csharp"
     }
    ]
   }
  }
 },
 "nbformat": 4,
 "nbformat_minor": 2
}
